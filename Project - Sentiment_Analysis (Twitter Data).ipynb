{
 "cells": [
  {
   "cell_type": "markdown",
   "id": "d8cc162e",
   "metadata": {},
   "source": [
    "## Project Outline\n",
    "\n",
    "- This Dataset contains 1,600,000 tweets extracted using the twitter api . The tweets have been annotated (0 = negative, 4 = positive) and they can be used to detect sentiment .\n",
    "- We will build multiple models like Simple RNN, LSTM, GRU. And compare various Model's Accuracy Score and the precit on some random text."
   ]
  },
  {
   "cell_type": "code",
   "execution_count": 1,
   "id": "4c76dffe",
   "metadata": {
    "id": "249ee4e9"
   },
   "outputs": [
    {
     "name": "stderr",
     "output_type": "stream",
     "text": [
      "/Applications/anaconda3/lib/python3.9/site-packages/scipy/__init__.py:146: UserWarning: A NumPy version >=1.16.5 and <1.23.0 is required for this version of SciPy (detected version 1.24.3\n",
      "  warnings.warn(f\"A NumPy version >={np_minversion} and <{np_maxversion}\"\n"
     ]
    }
   ],
   "source": [
    "#import basic libraries\n",
    "import pandas as pd\n",
    "import numpy as np\n",
    "import matplotlib.pyplot as plt\n",
    "%matplotlib inline\n",
    "import seaborn as sns\n",
    "\n",
    "import warnings\n",
    "warnings.filterwarnings('ignore')"
   ]
  },
  {
   "cell_type": "code",
   "execution_count": 3,
   "id": "385eaef4",
   "metadata": {},
   "outputs": [],
   "source": [
    "tweet_df = pd.read_csv('Data/twitter_project.csv', encoding='ISO-8859-1', header=None).sample(frac=0.10).reset_index()"
   ]
  },
  {
   "cell_type": "code",
   "execution_count": 4,
   "id": "3fe9cff4",
   "metadata": {
    "id": "3fe9cff4",
    "outputId": "ef9210cb-1888-4f62-b982-2ffd032941ba"
   },
   "outputs": [
    {
     "data": {
      "text/html": [
       "<div>\n",
       "<style scoped>\n",
       "    .dataframe tbody tr th:only-of-type {\n",
       "        vertical-align: middle;\n",
       "    }\n",
       "\n",
       "    .dataframe tbody tr th {\n",
       "        vertical-align: top;\n",
       "    }\n",
       "\n",
       "    .dataframe thead th {\n",
       "        text-align: right;\n",
       "    }\n",
       "</style>\n",
       "<table border=\"1\" class=\"dataframe\">\n",
       "  <thead>\n",
       "    <tr style=\"text-align: right;\">\n",
       "      <th></th>\n",
       "      <th>index</th>\n",
       "      <th>0</th>\n",
       "      <th>1</th>\n",
       "      <th>2</th>\n",
       "      <th>3</th>\n",
       "      <th>4</th>\n",
       "      <th>5</th>\n",
       "    </tr>\n",
       "  </thead>\n",
       "  <tbody>\n",
       "    <tr>\n",
       "      <th>0</th>\n",
       "      <td>726519</td>\n",
       "      <td>0</td>\n",
       "      <td>2262592484</td>\n",
       "      <td>Sat Jun 20 22:49:27 PDT 2009</td>\n",
       "      <td>NO_QUERY</td>\n",
       "      <td>Blonde36</td>\n",
       "      <td>torn down</td>\n",
       "    </tr>\n",
       "    <tr>\n",
       "      <th>1</th>\n",
       "      <td>1542658</td>\n",
       "      <td>4</td>\n",
       "      <td>2181126046</td>\n",
       "      <td>Mon Jun 15 11:24:10 PDT 2009</td>\n",
       "      <td>NO_QUERY</td>\n",
       "      <td>MartinaEfron</td>\n",
       "      <td>@ddlovato Demiiii!!!  Teen Choice awards?!?! W...</td>\n",
       "    </tr>\n",
       "    <tr>\n",
       "      <th>2</th>\n",
       "      <td>718644</td>\n",
       "      <td>0</td>\n",
       "      <td>2260354167</td>\n",
       "      <td>Sat Jun 20 19:04:56 PDT 2009</td>\n",
       "      <td>NO_QUERY</td>\n",
       "      <td>danicastr</td>\n",
       "      <td>@tommcfly Oun, Tom  You OK? haha</td>\n",
       "    </tr>\n",
       "    <tr>\n",
       "      <th>3</th>\n",
       "      <td>184889</td>\n",
       "      <td>0</td>\n",
       "      <td>1967828662</td>\n",
       "      <td>Fri May 29 20:17:01 PDT 2009</td>\n",
       "      <td>NO_QUERY</td>\n",
       "      <td>missioncuracao</td>\n",
       "      <td>@codywilbanks sorry for your loss.</td>\n",
       "    </tr>\n",
       "    <tr>\n",
       "      <th>4</th>\n",
       "      <td>647146</td>\n",
       "      <td>0</td>\n",
       "      <td>2236687962</td>\n",
       "      <td>Fri Jun 19 04:18:25 PDT 2009</td>\n",
       "      <td>NO_QUERY</td>\n",
       "      <td>JamesLeon1</td>\n",
       "      <td>@myfizzypop I am quite distraught about this, ...</td>\n",
       "    </tr>\n",
       "    <tr>\n",
       "      <th>...</th>\n",
       "      <td>...</td>\n",
       "      <td>...</td>\n",
       "      <td>...</td>\n",
       "      <td>...</td>\n",
       "      <td>...</td>\n",
       "      <td>...</td>\n",
       "      <td>...</td>\n",
       "    </tr>\n",
       "    <tr>\n",
       "      <th>159995</th>\n",
       "      <td>276863</td>\n",
       "      <td>0</td>\n",
       "      <td>1991132925</td>\n",
       "      <td>Mon Jun 01 06:28:03 PDT 2009</td>\n",
       "      <td>NO_QUERY</td>\n",
       "      <td>kookijhe</td>\n",
       "      <td>is suffering from backache.</td>\n",
       "    </tr>\n",
       "    <tr>\n",
       "      <th>159996</th>\n",
       "      <td>1290214</td>\n",
       "      <td>4</td>\n",
       "      <td>2002711715</td>\n",
       "      <td>Tue Jun 02 04:58:13 PDT 2009</td>\n",
       "      <td>NO_QUERY</td>\n",
       "      <td>_jev</td>\n",
       "      <td>Sandi's flooding my multiply albums with her c...</td>\n",
       "    </tr>\n",
       "    <tr>\n",
       "      <th>159997</th>\n",
       "      <td>1318728</td>\n",
       "      <td>4</td>\n",
       "      <td>2014401758</td>\n",
       "      <td>Wed Jun 03 01:24:38 PDT 2009</td>\n",
       "      <td>NO_QUERY</td>\n",
       "      <td>Shoko_RDJ</td>\n",
       "      <td>@Dyana_ Thanx I'm glad that u were glad for me...</td>\n",
       "    </tr>\n",
       "    <tr>\n",
       "      <th>159998</th>\n",
       "      <td>1048413</td>\n",
       "      <td>4</td>\n",
       "      <td>1960144867</td>\n",
       "      <td>Fri May 29 07:29:44 PDT 2009</td>\n",
       "      <td>NO_QUERY</td>\n",
       "      <td>LoloJ256</td>\n",
       "      <td>sister comes today!!! so excited and later pic...</td>\n",
       "    </tr>\n",
       "    <tr>\n",
       "      <th>159999</th>\n",
       "      <td>285087</td>\n",
       "      <td>0</td>\n",
       "      <td>1993508192</td>\n",
       "      <td>Mon Jun 01 10:29:26 PDT 2009</td>\n",
       "      <td>NO_QUERY</td>\n",
       "      <td>ophelia24</td>\n",
       "      <td>#ihate that they do random drug tests at work....</td>\n",
       "    </tr>\n",
       "  </tbody>\n",
       "</table>\n",
       "<p>160000 rows × 7 columns</p>\n",
       "</div>"
      ],
      "text/plain": [
       "          index  0           1                             2         3   \n",
       "0        726519  0  2262592484  Sat Jun 20 22:49:27 PDT 2009  NO_QUERY  \\\n",
       "1       1542658  4  2181126046  Mon Jun 15 11:24:10 PDT 2009  NO_QUERY   \n",
       "2        718644  0  2260354167  Sat Jun 20 19:04:56 PDT 2009  NO_QUERY   \n",
       "3        184889  0  1967828662  Fri May 29 20:17:01 PDT 2009  NO_QUERY   \n",
       "4        647146  0  2236687962  Fri Jun 19 04:18:25 PDT 2009  NO_QUERY   \n",
       "...         ... ..         ...                           ...       ...   \n",
       "159995   276863  0  1991132925  Mon Jun 01 06:28:03 PDT 2009  NO_QUERY   \n",
       "159996  1290214  4  2002711715  Tue Jun 02 04:58:13 PDT 2009  NO_QUERY   \n",
       "159997  1318728  4  2014401758  Wed Jun 03 01:24:38 PDT 2009  NO_QUERY   \n",
       "159998  1048413  4  1960144867  Fri May 29 07:29:44 PDT 2009  NO_QUERY   \n",
       "159999   285087  0  1993508192  Mon Jun 01 10:29:26 PDT 2009  NO_QUERY   \n",
       "\n",
       "                     4                                                  5  \n",
       "0             Blonde36                                         torn down   \n",
       "1         MartinaEfron  @ddlovato Demiiii!!!  Teen Choice awards?!?! W...  \n",
       "2            danicastr                   @tommcfly Oun, Tom  You OK? haha  \n",
       "3       missioncuracao                @codywilbanks sorry for your loss.   \n",
       "4           JamesLeon1  @myfizzypop I am quite distraught about this, ...  \n",
       "...                ...                                                ...  \n",
       "159995        kookijhe                       is suffering from backache.   \n",
       "159996            _jev  Sandi's flooding my multiply albums with her c...  \n",
       "159997       Shoko_RDJ  @Dyana_ Thanx I'm glad that u were glad for me...  \n",
       "159998        LoloJ256  sister comes today!!! so excited and later pic...  \n",
       "159999       ophelia24  #ihate that they do random drug tests at work....  \n",
       "\n",
       "[160000 rows x 7 columns]"
      ]
     },
     "execution_count": 4,
     "metadata": {},
     "output_type": "execute_result"
    }
   ],
   "source": [
    "tweet_df"
   ]
  },
  {
   "cell_type": "code",
   "execution_count": 5,
   "id": "cb2011dd",
   "metadata": {
    "id": "cb2011dd"
   },
   "outputs": [],
   "source": [
    "tweet_df.columns = ['index','sentiment', 'id', 'date', 'query', 'user_name', 'tweet']"
   ]
  },
  {
   "cell_type": "code",
   "execution_count": 6,
   "id": "17b3bfc9",
   "metadata": {
    "id": "17b3bfc9",
    "outputId": "a0851199-5006-496a-fc1e-7f012a280085"
   },
   "outputs": [
    {
     "data": {
      "text/html": [
       "<div>\n",
       "<style scoped>\n",
       "    .dataframe tbody tr th:only-of-type {\n",
       "        vertical-align: middle;\n",
       "    }\n",
       "\n",
       "    .dataframe tbody tr th {\n",
       "        vertical-align: top;\n",
       "    }\n",
       "\n",
       "    .dataframe thead th {\n",
       "        text-align: right;\n",
       "    }\n",
       "</style>\n",
       "<table border=\"1\" class=\"dataframe\">\n",
       "  <thead>\n",
       "    <tr style=\"text-align: right;\">\n",
       "      <th></th>\n",
       "      <th>index</th>\n",
       "      <th>sentiment</th>\n",
       "      <th>id</th>\n",
       "      <th>date</th>\n",
       "      <th>query</th>\n",
       "      <th>user_name</th>\n",
       "      <th>tweet</th>\n",
       "    </tr>\n",
       "  </thead>\n",
       "  <tbody>\n",
       "    <tr>\n",
       "      <th>0</th>\n",
       "      <td>726519</td>\n",
       "      <td>0</td>\n",
       "      <td>2262592484</td>\n",
       "      <td>Sat Jun 20 22:49:27 PDT 2009</td>\n",
       "      <td>NO_QUERY</td>\n",
       "      <td>Blonde36</td>\n",
       "      <td>torn down</td>\n",
       "    </tr>\n",
       "    <tr>\n",
       "      <th>1</th>\n",
       "      <td>1542658</td>\n",
       "      <td>4</td>\n",
       "      <td>2181126046</td>\n",
       "      <td>Mon Jun 15 11:24:10 PDT 2009</td>\n",
       "      <td>NO_QUERY</td>\n",
       "      <td>MartinaEfron</td>\n",
       "      <td>@ddlovato Demiiii!!!  Teen Choice awards?!?! W...</td>\n",
       "    </tr>\n",
       "    <tr>\n",
       "      <th>2</th>\n",
       "      <td>718644</td>\n",
       "      <td>0</td>\n",
       "      <td>2260354167</td>\n",
       "      <td>Sat Jun 20 19:04:56 PDT 2009</td>\n",
       "      <td>NO_QUERY</td>\n",
       "      <td>danicastr</td>\n",
       "      <td>@tommcfly Oun, Tom  You OK? haha</td>\n",
       "    </tr>\n",
       "    <tr>\n",
       "      <th>3</th>\n",
       "      <td>184889</td>\n",
       "      <td>0</td>\n",
       "      <td>1967828662</td>\n",
       "      <td>Fri May 29 20:17:01 PDT 2009</td>\n",
       "      <td>NO_QUERY</td>\n",
       "      <td>missioncuracao</td>\n",
       "      <td>@codywilbanks sorry for your loss.</td>\n",
       "    </tr>\n",
       "    <tr>\n",
       "      <th>4</th>\n",
       "      <td>647146</td>\n",
       "      <td>0</td>\n",
       "      <td>2236687962</td>\n",
       "      <td>Fri Jun 19 04:18:25 PDT 2009</td>\n",
       "      <td>NO_QUERY</td>\n",
       "      <td>JamesLeon1</td>\n",
       "      <td>@myfizzypop I am quite distraught about this, ...</td>\n",
       "    </tr>\n",
       "    <tr>\n",
       "      <th>...</th>\n",
       "      <td>...</td>\n",
       "      <td>...</td>\n",
       "      <td>...</td>\n",
       "      <td>...</td>\n",
       "      <td>...</td>\n",
       "      <td>...</td>\n",
       "      <td>...</td>\n",
       "    </tr>\n",
       "    <tr>\n",
       "      <th>159995</th>\n",
       "      <td>276863</td>\n",
       "      <td>0</td>\n",
       "      <td>1991132925</td>\n",
       "      <td>Mon Jun 01 06:28:03 PDT 2009</td>\n",
       "      <td>NO_QUERY</td>\n",
       "      <td>kookijhe</td>\n",
       "      <td>is suffering from backache.</td>\n",
       "    </tr>\n",
       "    <tr>\n",
       "      <th>159996</th>\n",
       "      <td>1290214</td>\n",
       "      <td>4</td>\n",
       "      <td>2002711715</td>\n",
       "      <td>Tue Jun 02 04:58:13 PDT 2009</td>\n",
       "      <td>NO_QUERY</td>\n",
       "      <td>_jev</td>\n",
       "      <td>Sandi's flooding my multiply albums with her c...</td>\n",
       "    </tr>\n",
       "    <tr>\n",
       "      <th>159997</th>\n",
       "      <td>1318728</td>\n",
       "      <td>4</td>\n",
       "      <td>2014401758</td>\n",
       "      <td>Wed Jun 03 01:24:38 PDT 2009</td>\n",
       "      <td>NO_QUERY</td>\n",
       "      <td>Shoko_RDJ</td>\n",
       "      <td>@Dyana_ Thanx I'm glad that u were glad for me...</td>\n",
       "    </tr>\n",
       "    <tr>\n",
       "      <th>159998</th>\n",
       "      <td>1048413</td>\n",
       "      <td>4</td>\n",
       "      <td>1960144867</td>\n",
       "      <td>Fri May 29 07:29:44 PDT 2009</td>\n",
       "      <td>NO_QUERY</td>\n",
       "      <td>LoloJ256</td>\n",
       "      <td>sister comes today!!! so excited and later pic...</td>\n",
       "    </tr>\n",
       "    <tr>\n",
       "      <th>159999</th>\n",
       "      <td>285087</td>\n",
       "      <td>0</td>\n",
       "      <td>1993508192</td>\n",
       "      <td>Mon Jun 01 10:29:26 PDT 2009</td>\n",
       "      <td>NO_QUERY</td>\n",
       "      <td>ophelia24</td>\n",
       "      <td>#ihate that they do random drug tests at work....</td>\n",
       "    </tr>\n",
       "  </tbody>\n",
       "</table>\n",
       "<p>160000 rows × 7 columns</p>\n",
       "</div>"
      ],
      "text/plain": [
       "          index  sentiment          id                          date   \n",
       "0        726519          0  2262592484  Sat Jun 20 22:49:27 PDT 2009  \\\n",
       "1       1542658          4  2181126046  Mon Jun 15 11:24:10 PDT 2009   \n",
       "2        718644          0  2260354167  Sat Jun 20 19:04:56 PDT 2009   \n",
       "3        184889          0  1967828662  Fri May 29 20:17:01 PDT 2009   \n",
       "4        647146          0  2236687962  Fri Jun 19 04:18:25 PDT 2009   \n",
       "...         ...        ...         ...                           ...   \n",
       "159995   276863          0  1991132925  Mon Jun 01 06:28:03 PDT 2009   \n",
       "159996  1290214          4  2002711715  Tue Jun 02 04:58:13 PDT 2009   \n",
       "159997  1318728          4  2014401758  Wed Jun 03 01:24:38 PDT 2009   \n",
       "159998  1048413          4  1960144867  Fri May 29 07:29:44 PDT 2009   \n",
       "159999   285087          0  1993508192  Mon Jun 01 10:29:26 PDT 2009   \n",
       "\n",
       "           query       user_name   \n",
       "0       NO_QUERY        Blonde36  \\\n",
       "1       NO_QUERY    MartinaEfron   \n",
       "2       NO_QUERY       danicastr   \n",
       "3       NO_QUERY  missioncuracao   \n",
       "4       NO_QUERY      JamesLeon1   \n",
       "...          ...             ...   \n",
       "159995  NO_QUERY        kookijhe   \n",
       "159996  NO_QUERY            _jev   \n",
       "159997  NO_QUERY       Shoko_RDJ   \n",
       "159998  NO_QUERY        LoloJ256   \n",
       "159999  NO_QUERY       ophelia24   \n",
       "\n",
       "                                                    tweet  \n",
       "0                                              torn down   \n",
       "1       @ddlovato Demiiii!!!  Teen Choice awards?!?! W...  \n",
       "2                        @tommcfly Oun, Tom  You OK? haha  \n",
       "3                     @codywilbanks sorry for your loss.   \n",
       "4       @myfizzypop I am quite distraught about this, ...  \n",
       "...                                                   ...  \n",
       "159995                       is suffering from backache.   \n",
       "159996  Sandi's flooding my multiply albums with her c...  \n",
       "159997  @Dyana_ Thanx I'm glad that u were glad for me...  \n",
       "159998  sister comes today!!! so excited and later pic...  \n",
       "159999  #ihate that they do random drug tests at work....  \n",
       "\n",
       "[160000 rows x 7 columns]"
      ]
     },
     "execution_count": 6,
     "metadata": {},
     "output_type": "execute_result"
    }
   ],
   "source": [
    "tweet_df"
   ]
  },
  {
   "cell_type": "code",
   "execution_count": 6,
   "id": "69845ac8",
   "metadata": {
    "id": "69845ac8"
   },
   "outputs": [],
   "source": [
    "tweet_df.drop(['index','id', 'date', 'query', 'user_name'], inplace=True, axis=1)"
   ]
  },
  {
   "cell_type": "code",
   "execution_count": 7,
   "id": "f3d8e180",
   "metadata": {
    "id": "f3d8e180",
    "outputId": "c61114ef-6399-4ddb-f409-500058837523"
   },
   "outputs": [
    {
     "data": {
      "text/html": [
       "<div>\n",
       "<style scoped>\n",
       "    .dataframe tbody tr th:only-of-type {\n",
       "        vertical-align: middle;\n",
       "    }\n",
       "\n",
       "    .dataframe tbody tr th {\n",
       "        vertical-align: top;\n",
       "    }\n",
       "\n",
       "    .dataframe thead th {\n",
       "        text-align: right;\n",
       "    }\n",
       "</style>\n",
       "<table border=\"1\" class=\"dataframe\">\n",
       "  <thead>\n",
       "    <tr style=\"text-align: right;\">\n",
       "      <th></th>\n",
       "      <th>index</th>\n",
       "      <th>sentiment</th>\n",
       "      <th>id</th>\n",
       "      <th>date</th>\n",
       "      <th>query</th>\n",
       "      <th>user_name</th>\n",
       "      <th>tweet</th>\n",
       "    </tr>\n",
       "  </thead>\n",
       "  <tbody>\n",
       "    <tr>\n",
       "      <th>0</th>\n",
       "      <td>726519</td>\n",
       "      <td>0</td>\n",
       "      <td>2262592484</td>\n",
       "      <td>Sat Jun 20 22:49:27 PDT 2009</td>\n",
       "      <td>NO_QUERY</td>\n",
       "      <td>Blonde36</td>\n",
       "      <td>torn down</td>\n",
       "    </tr>\n",
       "    <tr>\n",
       "      <th>1</th>\n",
       "      <td>1542658</td>\n",
       "      <td>4</td>\n",
       "      <td>2181126046</td>\n",
       "      <td>Mon Jun 15 11:24:10 PDT 2009</td>\n",
       "      <td>NO_QUERY</td>\n",
       "      <td>MartinaEfron</td>\n",
       "      <td>@ddlovato Demiiii!!!  Teen Choice awards?!?! W...</td>\n",
       "    </tr>\n",
       "    <tr>\n",
       "      <th>2</th>\n",
       "      <td>718644</td>\n",
       "      <td>0</td>\n",
       "      <td>2260354167</td>\n",
       "      <td>Sat Jun 20 19:04:56 PDT 2009</td>\n",
       "      <td>NO_QUERY</td>\n",
       "      <td>danicastr</td>\n",
       "      <td>@tommcfly Oun, Tom  You OK? haha</td>\n",
       "    </tr>\n",
       "    <tr>\n",
       "      <th>3</th>\n",
       "      <td>184889</td>\n",
       "      <td>0</td>\n",
       "      <td>1967828662</td>\n",
       "      <td>Fri May 29 20:17:01 PDT 2009</td>\n",
       "      <td>NO_QUERY</td>\n",
       "      <td>missioncuracao</td>\n",
       "      <td>@codywilbanks sorry for your loss.</td>\n",
       "    </tr>\n",
       "    <tr>\n",
       "      <th>4</th>\n",
       "      <td>647146</td>\n",
       "      <td>0</td>\n",
       "      <td>2236687962</td>\n",
       "      <td>Fri Jun 19 04:18:25 PDT 2009</td>\n",
       "      <td>NO_QUERY</td>\n",
       "      <td>JamesLeon1</td>\n",
       "      <td>@myfizzypop I am quite distraught about this, ...</td>\n",
       "    </tr>\n",
       "    <tr>\n",
       "      <th>...</th>\n",
       "      <td>...</td>\n",
       "      <td>...</td>\n",
       "      <td>...</td>\n",
       "      <td>...</td>\n",
       "      <td>...</td>\n",
       "      <td>...</td>\n",
       "      <td>...</td>\n",
       "    </tr>\n",
       "    <tr>\n",
       "      <th>159995</th>\n",
       "      <td>276863</td>\n",
       "      <td>0</td>\n",
       "      <td>1991132925</td>\n",
       "      <td>Mon Jun 01 06:28:03 PDT 2009</td>\n",
       "      <td>NO_QUERY</td>\n",
       "      <td>kookijhe</td>\n",
       "      <td>is suffering from backache.</td>\n",
       "    </tr>\n",
       "    <tr>\n",
       "      <th>159996</th>\n",
       "      <td>1290214</td>\n",
       "      <td>4</td>\n",
       "      <td>2002711715</td>\n",
       "      <td>Tue Jun 02 04:58:13 PDT 2009</td>\n",
       "      <td>NO_QUERY</td>\n",
       "      <td>_jev</td>\n",
       "      <td>Sandi's flooding my multiply albums with her c...</td>\n",
       "    </tr>\n",
       "    <tr>\n",
       "      <th>159997</th>\n",
       "      <td>1318728</td>\n",
       "      <td>4</td>\n",
       "      <td>2014401758</td>\n",
       "      <td>Wed Jun 03 01:24:38 PDT 2009</td>\n",
       "      <td>NO_QUERY</td>\n",
       "      <td>Shoko_RDJ</td>\n",
       "      <td>@Dyana_ Thanx I'm glad that u were glad for me...</td>\n",
       "    </tr>\n",
       "    <tr>\n",
       "      <th>159998</th>\n",
       "      <td>1048413</td>\n",
       "      <td>4</td>\n",
       "      <td>1960144867</td>\n",
       "      <td>Fri May 29 07:29:44 PDT 2009</td>\n",
       "      <td>NO_QUERY</td>\n",
       "      <td>LoloJ256</td>\n",
       "      <td>sister comes today!!! so excited and later pic...</td>\n",
       "    </tr>\n",
       "    <tr>\n",
       "      <th>159999</th>\n",
       "      <td>285087</td>\n",
       "      <td>0</td>\n",
       "      <td>1993508192</td>\n",
       "      <td>Mon Jun 01 10:29:26 PDT 2009</td>\n",
       "      <td>NO_QUERY</td>\n",
       "      <td>ophelia24</td>\n",
       "      <td>#ihate that they do random drug tests at work....</td>\n",
       "    </tr>\n",
       "  </tbody>\n",
       "</table>\n",
       "<p>160000 rows × 7 columns</p>\n",
       "</div>"
      ],
      "text/plain": [
       "          index  sentiment          id                          date   \n",
       "0        726519          0  2262592484  Sat Jun 20 22:49:27 PDT 2009  \\\n",
       "1       1542658          4  2181126046  Mon Jun 15 11:24:10 PDT 2009   \n",
       "2        718644          0  2260354167  Sat Jun 20 19:04:56 PDT 2009   \n",
       "3        184889          0  1967828662  Fri May 29 20:17:01 PDT 2009   \n",
       "4        647146          0  2236687962  Fri Jun 19 04:18:25 PDT 2009   \n",
       "...         ...        ...         ...                           ...   \n",
       "159995   276863          0  1991132925  Mon Jun 01 06:28:03 PDT 2009   \n",
       "159996  1290214          4  2002711715  Tue Jun 02 04:58:13 PDT 2009   \n",
       "159997  1318728          4  2014401758  Wed Jun 03 01:24:38 PDT 2009   \n",
       "159998  1048413          4  1960144867  Fri May 29 07:29:44 PDT 2009   \n",
       "159999   285087          0  1993508192  Mon Jun 01 10:29:26 PDT 2009   \n",
       "\n",
       "           query       user_name   \n",
       "0       NO_QUERY        Blonde36  \\\n",
       "1       NO_QUERY    MartinaEfron   \n",
       "2       NO_QUERY       danicastr   \n",
       "3       NO_QUERY  missioncuracao   \n",
       "4       NO_QUERY      JamesLeon1   \n",
       "...          ...             ...   \n",
       "159995  NO_QUERY        kookijhe   \n",
       "159996  NO_QUERY            _jev   \n",
       "159997  NO_QUERY       Shoko_RDJ   \n",
       "159998  NO_QUERY        LoloJ256   \n",
       "159999  NO_QUERY       ophelia24   \n",
       "\n",
       "                                                    tweet  \n",
       "0                                              torn down   \n",
       "1       @ddlovato Demiiii!!!  Teen Choice awards?!?! W...  \n",
       "2                        @tommcfly Oun, Tom  You OK? haha  \n",
       "3                     @codywilbanks sorry for your loss.   \n",
       "4       @myfizzypop I am quite distraught about this, ...  \n",
       "...                                                   ...  \n",
       "159995                       is suffering from backache.   \n",
       "159996  Sandi's flooding my multiply albums with her c...  \n",
       "159997  @Dyana_ Thanx I'm glad that u were glad for me...  \n",
       "159998  sister comes today!!! so excited and later pic...  \n",
       "159999  #ihate that they do random drug tests at work....  \n",
       "\n",
       "[160000 rows x 7 columns]"
      ]
     },
     "execution_count": 7,
     "metadata": {},
     "output_type": "execute_result"
    }
   ],
   "source": [
    "tweet_df"
   ]
  },
  {
   "cell_type": "code",
   "execution_count": 8,
   "id": "7e90fb80",
   "metadata": {
    "id": "7e90fb80",
    "outputId": "3230f2c3-d58e-453c-ef92-2e961fea9902"
   },
   "outputs": [
    {
     "data": {
      "text/plain": [
       "sentiment\n",
       "4    80211\n",
       "0    79789\n",
       "Name: count, dtype: int64"
      ]
     },
     "execution_count": 8,
     "metadata": {},
     "output_type": "execute_result"
    }
   ],
   "source": [
    "tweet_df.sentiment.value_counts()"
   ]
  },
  {
   "cell_type": "markdown",
   "id": "dcf4f0d4",
   "metadata": {},
   "source": [
    "### Data Visualisation"
   ]
  },
  {
   "cell_type": "code",
   "execution_count": 9,
   "id": "89b7f456",
   "metadata": {
    "id": "89b7f456",
    "outputId": "f06aed4f-f181-4116-9d66-9381259993b5",
    "scrolled": false
   },
   "outputs": [
    {
     "data": {
      "text/plain": [
       "<AxesSubplot:xlabel='sentiment', ylabel='count'>"
      ]
     },
     "execution_count": 9,
     "metadata": {},
     "output_type": "execute_result"
    },
    {
     "data": {
      "image/png": "[encoded data removed]",
      "text/plain": [
       "<Figure size 640x480 with 1 Axes>"
      ]
     },
     "metadata": {},
     "output_type": "display_data"
    }
   ],
   "source": [
    "sns.countplot(data=tweet_df, x='sentiment')"
   ]
  },
  {
   "cell_type": "markdown",
   "id": "a852a023",
   "metadata": {},
   "source": [
    "### Data Cleaning\n",
    "\n",
    "Generally Tweets contain numbers, punctuations, different type of stem words, stopwords. And sentences also needs to be divided into words and into numeric in a list for processing data into model. So Data Cleaning for this type of data is very important and necessary."
   ]
  },
  {
   "cell_type": "code",
   "execution_count": 10,
   "id": "c9a8658c",
   "metadata": {},
   "outputs": [],
   "source": [
    "import nltk\n",
    "from nltk.tokenize import word_tokenize  # Split sentence into words and keep those words in form of a list"
   ]
  },
  {
   "cell_type": "code",
   "execution_count": 11,
   "id": "cdad2d6b",
   "metadata": {
    "id": "cdad2d6b",
    "outputId": "2067411e-98d7-415a-d587-9fb6e10aa89a"
   },
   "outputs": [
    {
     "name": "stdout",
     "output_type": "stream",
     "text": [
      "torn down \n",
      "['torn', 'down']\n"
     ]
    }
   ],
   "source": [
    "text_1 = tweet_df['tweet'][0]\n",
    "print(text_1)\n",
    "\n",
    "print(word_tokenize(text_1))"
   ]
  },
  {
   "cell_type": "code",
   "execution_count": 12,
   "id": "fcd2e948",
   "metadata": {
    "id": "fcd2e948"
   },
   "outputs": [],
   "source": [
    "corpus=[]\n",
    "for text in tweet_df['tweet']:\n",
    "    words = [word.lower() for word in word_tokenize(text)]\n",
    "    corpus.append(words)"
   ]
  },
  {
   "cell_type": "code",
   "execution_count": 13,
   "id": "9f3f2dac",
   "metadata": {
    "id": "9f3f2dac",
    "outputId": "7ed36470-2eb4-4967-be60-959f7f5df1cc"
   },
   "outputs": [
    {
     "name": "stdout",
     "output_type": "stream",
     "text": [
      "160000\n"
     ]
    }
   ],
   "source": [
    "num_words=len(corpus)\n",
    "print(num_words)"
   ]
  },
  {
   "cell_type": "code",
   "execution_count": 14,
   "id": "08a0418e",
   "metadata": {
    "id": "08a0418e",
    "outputId": "21d0c916-5b83-496d-9491-2ecd96a720d7"
   },
   "outputs": [
    {
     "data": {
      "text/plain": [
       "(160000, 7)"
      ]
     },
     "execution_count": 14,
     "metadata": {},
     "output_type": "execute_result"
    }
   ],
   "source": [
    "tweet_df.shape"
   ]
  },
  {
   "cell_type": "code",
   "execution_count": 15,
   "id": "6b109a06",
   "metadata": {
    "id": "6b109a06"
   },
   "outputs": [],
   "source": [
    "tweet_df['tweet']=tweet_df['tweet'].str.lower()"
   ]
  },
  {
   "cell_type": "code",
   "execution_count": 16,
   "id": "0883c63c",
   "metadata": {
    "id": "0883c63c",
    "outputId": "5505b2b7-44b3-41bf-b1ca-84493a017137"
   },
   "outputs": [
    {
     "data": {
      "text/html": [
       "<div>\n",
       "<style scoped>\n",
       "    .dataframe tbody tr th:only-of-type {\n",
       "        vertical-align: middle;\n",
       "    }\n",
       "\n",
       "    .dataframe tbody tr th {\n",
       "        vertical-align: top;\n",
       "    }\n",
       "\n",
       "    .dataframe thead th {\n",
       "        text-align: right;\n",
       "    }\n",
       "</style>\n",
       "<table border=\"1\" class=\"dataframe\">\n",
       "  <thead>\n",
       "    <tr style=\"text-align: right;\">\n",
       "      <th></th>\n",
       "      <th>index</th>\n",
       "      <th>sentiment</th>\n",
       "      <th>id</th>\n",
       "      <th>date</th>\n",
       "      <th>query</th>\n",
       "      <th>user_name</th>\n",
       "      <th>tweet</th>\n",
       "    </tr>\n",
       "  </thead>\n",
       "  <tbody>\n",
       "    <tr>\n",
       "      <th>0</th>\n",
       "      <td>726519</td>\n",
       "      <td>0</td>\n",
       "      <td>2262592484</td>\n",
       "      <td>Sat Jun 20 22:49:27 PDT 2009</td>\n",
       "      <td>NO_QUERY</td>\n",
       "      <td>Blonde36</td>\n",
       "      <td>torn down</td>\n",
       "    </tr>\n",
       "    <tr>\n",
       "      <th>1</th>\n",
       "      <td>1542658</td>\n",
       "      <td>4</td>\n",
       "      <td>2181126046</td>\n",
       "      <td>Mon Jun 15 11:24:10 PDT 2009</td>\n",
       "      <td>NO_QUERY</td>\n",
       "      <td>MartinaEfron</td>\n",
       "      <td>@ddlovato demiiii!!!  teen choice awards?!?! w...</td>\n",
       "    </tr>\n",
       "    <tr>\n",
       "      <th>2</th>\n",
       "      <td>718644</td>\n",
       "      <td>0</td>\n",
       "      <td>2260354167</td>\n",
       "      <td>Sat Jun 20 19:04:56 PDT 2009</td>\n",
       "      <td>NO_QUERY</td>\n",
       "      <td>danicastr</td>\n",
       "      <td>@tommcfly oun, tom  you ok? haha</td>\n",
       "    </tr>\n",
       "    <tr>\n",
       "      <th>3</th>\n",
       "      <td>184889</td>\n",
       "      <td>0</td>\n",
       "      <td>1967828662</td>\n",
       "      <td>Fri May 29 20:17:01 PDT 2009</td>\n",
       "      <td>NO_QUERY</td>\n",
       "      <td>missioncuracao</td>\n",
       "      <td>@codywilbanks sorry for your loss.</td>\n",
       "    </tr>\n",
       "    <tr>\n",
       "      <th>4</th>\n",
       "      <td>647146</td>\n",
       "      <td>0</td>\n",
       "      <td>2236687962</td>\n",
       "      <td>Fri Jun 19 04:18:25 PDT 2009</td>\n",
       "      <td>NO_QUERY</td>\n",
       "      <td>JamesLeon1</td>\n",
       "      <td>@myfizzypop i am quite distraught about this, ...</td>\n",
       "    </tr>\n",
       "    <tr>\n",
       "      <th>...</th>\n",
       "      <td>...</td>\n",
       "      <td>...</td>\n",
       "      <td>...</td>\n",
       "      <td>...</td>\n",
       "      <td>...</td>\n",
       "      <td>...</td>\n",
       "      <td>...</td>\n",
       "    </tr>\n",
       "    <tr>\n",
       "      <th>159995</th>\n",
       "      <td>276863</td>\n",
       "      <td>0</td>\n",
       "      <td>1991132925</td>\n",
       "      <td>Mon Jun 01 06:28:03 PDT 2009</td>\n",
       "      <td>NO_QUERY</td>\n",
       "      <td>kookijhe</td>\n",
       "      <td>is suffering from backache.</td>\n",
       "    </tr>\n",
       "    <tr>\n",
       "      <th>159996</th>\n",
       "      <td>1290214</td>\n",
       "      <td>4</td>\n",
       "      <td>2002711715</td>\n",
       "      <td>Tue Jun 02 04:58:13 PDT 2009</td>\n",
       "      <td>NO_QUERY</td>\n",
       "      <td>_jev</td>\n",
       "      <td>sandi's flooding my multiply albums with her c...</td>\n",
       "    </tr>\n",
       "    <tr>\n",
       "      <th>159997</th>\n",
       "      <td>1318728</td>\n",
       "      <td>4</td>\n",
       "      <td>2014401758</td>\n",
       "      <td>Wed Jun 03 01:24:38 PDT 2009</td>\n",
       "      <td>NO_QUERY</td>\n",
       "      <td>Shoko_RDJ</td>\n",
       "      <td>@dyana_ thanx i'm glad that u were glad for me...</td>\n",
       "    </tr>\n",
       "    <tr>\n",
       "      <th>159998</th>\n",
       "      <td>1048413</td>\n",
       "      <td>4</td>\n",
       "      <td>1960144867</td>\n",
       "      <td>Fri May 29 07:29:44 PDT 2009</td>\n",
       "      <td>NO_QUERY</td>\n",
       "      <td>LoloJ256</td>\n",
       "      <td>sister comes today!!! so excited and later pic...</td>\n",
       "    </tr>\n",
       "    <tr>\n",
       "      <th>159999</th>\n",
       "      <td>285087</td>\n",
       "      <td>0</td>\n",
       "      <td>1993508192</td>\n",
       "      <td>Mon Jun 01 10:29:26 PDT 2009</td>\n",
       "      <td>NO_QUERY</td>\n",
       "      <td>ophelia24</td>\n",
       "      <td>#ihate that they do random drug tests at work....</td>\n",
       "    </tr>\n",
       "  </tbody>\n",
       "</table>\n",
       "<p>160000 rows × 7 columns</p>\n",
       "</div>"
      ],
      "text/plain": [
       "          index  sentiment          id                          date   \n",
       "0        726519          0  2262592484  Sat Jun 20 22:49:27 PDT 2009  \\\n",
       "1       1542658          4  2181126046  Mon Jun 15 11:24:10 PDT 2009   \n",
       "2        718644          0  2260354167  Sat Jun 20 19:04:56 PDT 2009   \n",
       "3        184889          0  1967828662  Fri May 29 20:17:01 PDT 2009   \n",
       "4        647146          0  2236687962  Fri Jun 19 04:18:25 PDT 2009   \n",
       "...         ...        ...         ...                           ...   \n",
       "159995   276863          0  1991132925  Mon Jun 01 06:28:03 PDT 2009   \n",
       "159996  1290214          4  2002711715  Tue Jun 02 04:58:13 PDT 2009   \n",
       "159997  1318728          4  2014401758  Wed Jun 03 01:24:38 PDT 2009   \n",
       "159998  1048413          4  1960144867  Fri May 29 07:29:44 PDT 2009   \n",
       "159999   285087          0  1993508192  Mon Jun 01 10:29:26 PDT 2009   \n",
       "\n",
       "           query       user_name   \n",
       "0       NO_QUERY        Blonde36  \\\n",
       "1       NO_QUERY    MartinaEfron   \n",
       "2       NO_QUERY       danicastr   \n",
       "3       NO_QUERY  missioncuracao   \n",
       "4       NO_QUERY      JamesLeon1   \n",
       "...          ...             ...   \n",
       "159995  NO_QUERY        kookijhe   \n",
       "159996  NO_QUERY            _jev   \n",
       "159997  NO_QUERY       Shoko_RDJ   \n",
       "159998  NO_QUERY        LoloJ256   \n",
       "159999  NO_QUERY       ophelia24   \n",
       "\n",
       "                                                    tweet  \n",
       "0                                              torn down   \n",
       "1       @ddlovato demiiii!!!  teen choice awards?!?! w...  \n",
       "2                        @tommcfly oun, tom  you ok? haha  \n",
       "3                     @codywilbanks sorry for your loss.   \n",
       "4       @myfizzypop i am quite distraught about this, ...  \n",
       "...                                                   ...  \n",
       "159995                       is suffering from backache.   \n",
       "159996  sandi's flooding my multiply albums with her c...  \n",
       "159997  @dyana_ thanx i'm glad that u were glad for me...  \n",
       "159998  sister comes today!!! so excited and later pic...  \n",
       "159999  #ihate that they do random drug tests at work....  \n",
       "\n",
       "[160000 rows x 7 columns]"
      ]
     },
     "execution_count": 16,
     "metadata": {},
     "output_type": "execute_result"
    }
   ],
   "source": [
    "tweet_df"
   ]
  },
  {
   "cell_type": "code",
   "execution_count": 17,
   "id": "bcbfe477",
   "metadata": {
    "id": "bcbfe477",
    "outputId": "9233cd12-117a-4aa2-fbda-8f09e71c781c"
   },
   "outputs": [
    {
     "data": {
      "text/plain": [
       "179"
      ]
     },
     "execution_count": 17,
     "metadata": {},
     "output_type": "execute_result"
    }
   ],
   "source": [
    "from nltk.corpus import stopwords\n",
    "stpwrds = stopwords.words('english')\n",
    "len(stpwrds)"
   ]
  },
  {
   "cell_type": "code",
   "execution_count": 18,
   "id": "3869cbfd",
   "metadata": {
    "id": "3869cbfd"
   },
   "outputs": [],
   "source": [
    "# Removing stopwords from the review column\n",
    "tweet_df['tweet']=tweet_df['tweet'].apply(lambda x:\" \".join(word for word in x.split() if word not in stpwrds))"
   ]
  },
  {
   "cell_type": "code",
   "execution_count": 19,
   "id": "ff7bb1a6",
   "metadata": {
    "id": "ff7bb1a6",
    "outputId": "a902adc3-bdbb-45f4-cdf0-29913101f7cb"
   },
   "outputs": [
    {
     "data": {
      "text/html": [
       "<div>\n",
       "<style scoped>\n",
       "    .dataframe tbody tr th:only-of-type {\n",
       "        vertical-align: middle;\n",
       "    }\n",
       "\n",
       "    .dataframe tbody tr th {\n",
       "        vertical-align: top;\n",
       "    }\n",
       "\n",
       "    .dataframe thead th {\n",
       "        text-align: right;\n",
       "    }\n",
       "</style>\n",
       "<table border=\"1\" class=\"dataframe\">\n",
       "  <thead>\n",
       "    <tr style=\"text-align: right;\">\n",
       "      <th></th>\n",
       "      <th>index</th>\n",
       "      <th>sentiment</th>\n",
       "      <th>id</th>\n",
       "      <th>date</th>\n",
       "      <th>query</th>\n",
       "      <th>user_name</th>\n",
       "      <th>tweet</th>\n",
       "    </tr>\n",
       "  </thead>\n",
       "  <tbody>\n",
       "    <tr>\n",
       "      <th>0</th>\n",
       "      <td>726519</td>\n",
       "      <td>0</td>\n",
       "      <td>2262592484</td>\n",
       "      <td>Sat Jun 20 22:49:27 PDT 2009</td>\n",
       "      <td>NO_QUERY</td>\n",
       "      <td>Blonde36</td>\n",
       "      <td>torn</td>\n",
       "    </tr>\n",
       "    <tr>\n",
       "      <th>1</th>\n",
       "      <td>1542658</td>\n",
       "      <td>4</td>\n",
       "      <td>2181126046</td>\n",
       "      <td>Mon Jun 15 11:24:10 PDT 2009</td>\n",
       "      <td>NO_QUERY</td>\n",
       "      <td>MartinaEfron</td>\n",
       "      <td>@ddlovato demiiii!!! teen choice awards?!?! wo...</td>\n",
       "    </tr>\n",
       "    <tr>\n",
       "      <th>2</th>\n",
       "      <td>718644</td>\n",
       "      <td>0</td>\n",
       "      <td>2260354167</td>\n",
       "      <td>Sat Jun 20 19:04:56 PDT 2009</td>\n",
       "      <td>NO_QUERY</td>\n",
       "      <td>danicastr</td>\n",
       "      <td>@tommcfly oun, tom ok? haha</td>\n",
       "    </tr>\n",
       "    <tr>\n",
       "      <th>3</th>\n",
       "      <td>184889</td>\n",
       "      <td>0</td>\n",
       "      <td>1967828662</td>\n",
       "      <td>Fri May 29 20:17:01 PDT 2009</td>\n",
       "      <td>NO_QUERY</td>\n",
       "      <td>missioncuracao</td>\n",
       "      <td>@codywilbanks sorry loss.</td>\n",
       "    </tr>\n",
       "    <tr>\n",
       "      <th>4</th>\n",
       "      <td>647146</td>\n",
       "      <td>0</td>\n",
       "      <td>2236687962</td>\n",
       "      <td>Fri Jun 19 04:18:25 PDT 2009</td>\n",
       "      <td>NO_QUERY</td>\n",
       "      <td>JamesLeon1</td>\n",
       "      <td>@myfizzypop quite distraught this, thought wou...</td>\n",
       "    </tr>\n",
       "    <tr>\n",
       "      <th>...</th>\n",
       "      <td>...</td>\n",
       "      <td>...</td>\n",
       "      <td>...</td>\n",
       "      <td>...</td>\n",
       "      <td>...</td>\n",
       "      <td>...</td>\n",
       "      <td>...</td>\n",
       "    </tr>\n",
       "    <tr>\n",
       "      <th>159995</th>\n",
       "      <td>276863</td>\n",
       "      <td>0</td>\n",
       "      <td>1991132925</td>\n",
       "      <td>Mon Jun 01 06:28:03 PDT 2009</td>\n",
       "      <td>NO_QUERY</td>\n",
       "      <td>kookijhe</td>\n",
       "      <td>suffering backache.</td>\n",
       "    </tr>\n",
       "    <tr>\n",
       "      <th>159996</th>\n",
       "      <td>1290214</td>\n",
       "      <td>4</td>\n",
       "      <td>2002711715</td>\n",
       "      <td>Tue Jun 02 04:58:13 PDT 2009</td>\n",
       "      <td>NO_QUERY</td>\n",
       "      <td>_jev</td>\n",
       "      <td>sandi's flooding multiply albums comments! oh ...</td>\n",
       "    </tr>\n",
       "    <tr>\n",
       "      <th>159997</th>\n",
       "      <td>1318728</td>\n",
       "      <td>4</td>\n",
       "      <td>2014401758</td>\n",
       "      <td>Wed Jun 03 01:24:38 PDT 2009</td>\n",
       "      <td>NO_QUERY</td>\n",
       "      <td>Shoko_RDJ</td>\n",
       "      <td>@dyana_ thanx i'm glad u glad story heartwarmi...</td>\n",
       "    </tr>\n",
       "    <tr>\n",
       "      <th>159998</th>\n",
       "      <td>1048413</td>\n",
       "      <td>4</td>\n",
       "      <td>1960144867</td>\n",
       "      <td>Fri May 29 07:29:44 PDT 2009</td>\n",
       "      <td>NO_QUERY</td>\n",
       "      <td>LoloJ256</td>\n",
       "      <td>sister comes today!!! excited later picking ca...</td>\n",
       "    </tr>\n",
       "    <tr>\n",
       "      <th>159999</th>\n",
       "      <td>285087</td>\n",
       "      <td>0</td>\n",
       "      <td>1993508192</td>\n",
       "      <td>Mon Jun 01 10:29:26 PDT 2009</td>\n",
       "      <td>NO_QUERY</td>\n",
       "      <td>ophelia24</td>\n",
       "      <td>#ihate random drug tests work. fun me.</td>\n",
       "    </tr>\n",
       "  </tbody>\n",
       "</table>\n",
       "<p>160000 rows × 7 columns</p>\n",
       "</div>"
      ],
      "text/plain": [
       "          index  sentiment          id                          date   \n",
       "0        726519          0  2262592484  Sat Jun 20 22:49:27 PDT 2009  \\\n",
       "1       1542658          4  2181126046  Mon Jun 15 11:24:10 PDT 2009   \n",
       "2        718644          0  2260354167  Sat Jun 20 19:04:56 PDT 2009   \n",
       "3        184889          0  1967828662  Fri May 29 20:17:01 PDT 2009   \n",
       "4        647146          0  2236687962  Fri Jun 19 04:18:25 PDT 2009   \n",
       "...         ...        ...         ...                           ...   \n",
       "159995   276863          0  1991132925  Mon Jun 01 06:28:03 PDT 2009   \n",
       "159996  1290214          4  2002711715  Tue Jun 02 04:58:13 PDT 2009   \n",
       "159997  1318728          4  2014401758  Wed Jun 03 01:24:38 PDT 2009   \n",
       "159998  1048413          4  1960144867  Fri May 29 07:29:44 PDT 2009   \n",
       "159999   285087          0  1993508192  Mon Jun 01 10:29:26 PDT 2009   \n",
       "\n",
       "           query       user_name   \n",
       "0       NO_QUERY        Blonde36  \\\n",
       "1       NO_QUERY    MartinaEfron   \n",
       "2       NO_QUERY       danicastr   \n",
       "3       NO_QUERY  missioncuracao   \n",
       "4       NO_QUERY      JamesLeon1   \n",
       "...          ...             ...   \n",
       "159995  NO_QUERY        kookijhe   \n",
       "159996  NO_QUERY            _jev   \n",
       "159997  NO_QUERY       Shoko_RDJ   \n",
       "159998  NO_QUERY        LoloJ256   \n",
       "159999  NO_QUERY       ophelia24   \n",
       "\n",
       "                                                    tweet  \n",
       "0                                                    torn  \n",
       "1       @ddlovato demiiii!!! teen choice awards?!?! wo...  \n",
       "2                             @tommcfly oun, tom ok? haha  \n",
       "3                               @codywilbanks sorry loss.  \n",
       "4       @myfizzypop quite distraught this, thought wou...  \n",
       "...                                                   ...  \n",
       "159995                                suffering backache.  \n",
       "159996  sandi's flooding multiply albums comments! oh ...  \n",
       "159997  @dyana_ thanx i'm glad u glad story heartwarmi...  \n",
       "159998  sister comes today!!! excited later picking ca...  \n",
       "159999             #ihate random drug tests work. fun me.  \n",
       "\n",
       "[160000 rows x 7 columns]"
      ]
     },
     "execution_count": 19,
     "metadata": {},
     "output_type": "execute_result"
    }
   ],
   "source": [
    "tweet_df"
   ]
  },
  {
   "cell_type": "code",
   "execution_count": 20,
   "id": "6d3440e6",
   "metadata": {
    "id": "6d3440e6"
   },
   "outputs": [],
   "source": [
    "import string # special operations on strings like removing the punctuations from the sentences\n",
    "def remove_punc(text):\n",
    "    no_punc= text.translate(str.maketrans('', '', string.punctuation))\n",
    "    return no_punc"
   ]
  },
  {
   "cell_type": "code",
   "execution_count": 21,
   "id": "7d6a606d",
   "metadata": {
    "id": "7d6a606d"
   },
   "outputs": [],
   "source": [
    "tweet_df['tweet']=tweet_df['tweet'].apply(remove_punc)"
   ]
  },
  {
   "cell_type": "code",
   "execution_count": 22,
   "id": "18786951",
   "metadata": {
    "id": "18786951",
    "outputId": "503fc37d-7959-4341-ea97-c9753636be3b"
   },
   "outputs": [
    {
     "data": {
      "text/html": [
       "<div>\n",
       "<style scoped>\n",
       "    .dataframe tbody tr th:only-of-type {\n",
       "        vertical-align: middle;\n",
       "    }\n",
       "\n",
       "    .dataframe tbody tr th {\n",
       "        vertical-align: top;\n",
       "    }\n",
       "\n",
       "    .dataframe thead th {\n",
       "        text-align: right;\n",
       "    }\n",
       "</style>\n",
       "<table border=\"1\" class=\"dataframe\">\n",
       "  <thead>\n",
       "    <tr style=\"text-align: right;\">\n",
       "      <th></th>\n",
       "      <th>index</th>\n",
       "      <th>sentiment</th>\n",
       "      <th>id</th>\n",
       "      <th>date</th>\n",
       "      <th>query</th>\n",
       "      <th>user_name</th>\n",
       "      <th>tweet</th>\n",
       "    </tr>\n",
       "  </thead>\n",
       "  <tbody>\n",
       "    <tr>\n",
       "      <th>0</th>\n",
       "      <td>726519</td>\n",
       "      <td>0</td>\n",
       "      <td>2262592484</td>\n",
       "      <td>Sat Jun 20 22:49:27 PDT 2009</td>\n",
       "      <td>NO_QUERY</td>\n",
       "      <td>Blonde36</td>\n",
       "      <td>torn</td>\n",
       "    </tr>\n",
       "    <tr>\n",
       "      <th>1</th>\n",
       "      <td>1542658</td>\n",
       "      <td>4</td>\n",
       "      <td>2181126046</td>\n",
       "      <td>Mon Jun 15 11:24:10 PDT 2009</td>\n",
       "      <td>NO_QUERY</td>\n",
       "      <td>MartinaEfron</td>\n",
       "      <td>ddlovato demiiii teen choice awards wooow im s...</td>\n",
       "    </tr>\n",
       "    <tr>\n",
       "      <th>2</th>\n",
       "      <td>718644</td>\n",
       "      <td>0</td>\n",
       "      <td>2260354167</td>\n",
       "      <td>Sat Jun 20 19:04:56 PDT 2009</td>\n",
       "      <td>NO_QUERY</td>\n",
       "      <td>danicastr</td>\n",
       "      <td>tommcfly oun tom ok haha</td>\n",
       "    </tr>\n",
       "    <tr>\n",
       "      <th>3</th>\n",
       "      <td>184889</td>\n",
       "      <td>0</td>\n",
       "      <td>1967828662</td>\n",
       "      <td>Fri May 29 20:17:01 PDT 2009</td>\n",
       "      <td>NO_QUERY</td>\n",
       "      <td>missioncuracao</td>\n",
       "      <td>codywilbanks sorry loss</td>\n",
       "    </tr>\n",
       "    <tr>\n",
       "      <th>4</th>\n",
       "      <td>647146</td>\n",
       "      <td>0</td>\n",
       "      <td>2236687962</td>\n",
       "      <td>Fri Jun 19 04:18:25 PDT 2009</td>\n",
       "      <td>NO_QUERY</td>\n",
       "      <td>JamesLeon1</td>\n",
       "      <td>myfizzypop quite distraught this thought would...</td>\n",
       "    </tr>\n",
       "    <tr>\n",
       "      <th>...</th>\n",
       "      <td>...</td>\n",
       "      <td>...</td>\n",
       "      <td>...</td>\n",
       "      <td>...</td>\n",
       "      <td>...</td>\n",
       "      <td>...</td>\n",
       "      <td>...</td>\n",
       "    </tr>\n",
       "    <tr>\n",
       "      <th>159995</th>\n",
       "      <td>276863</td>\n",
       "      <td>0</td>\n",
       "      <td>1991132925</td>\n",
       "      <td>Mon Jun 01 06:28:03 PDT 2009</td>\n",
       "      <td>NO_QUERY</td>\n",
       "      <td>kookijhe</td>\n",
       "      <td>suffering backache</td>\n",
       "    </tr>\n",
       "    <tr>\n",
       "      <th>159996</th>\n",
       "      <td>1290214</td>\n",
       "      <td>4</td>\n",
       "      <td>2002711715</td>\n",
       "      <td>Tue Jun 02 04:58:13 PDT 2009</td>\n",
       "      <td>NO_QUERY</td>\n",
       "      <td>_jev</td>\n",
       "      <td>sandis flooding multiply albums comments oh mi...</td>\n",
       "    </tr>\n",
       "    <tr>\n",
       "      <th>159997</th>\n",
       "      <td>1318728</td>\n",
       "      <td>4</td>\n",
       "      <td>2014401758</td>\n",
       "      <td>Wed Jun 03 01:24:38 PDT 2009</td>\n",
       "      <td>NO_QUERY</td>\n",
       "      <td>Shoko_RDJ</td>\n",
       "      <td>dyana thanx im glad u glad story heartwarming ...</td>\n",
       "    </tr>\n",
       "    <tr>\n",
       "      <th>159998</th>\n",
       "      <td>1048413</td>\n",
       "      <td>4</td>\n",
       "      <td>1960144867</td>\n",
       "      <td>Fri May 29 07:29:44 PDT 2009</td>\n",
       "      <td>NO_QUERY</td>\n",
       "      <td>LoloJ256</td>\n",
       "      <td>sister comes today excited later picking cap g...</td>\n",
       "    </tr>\n",
       "    <tr>\n",
       "      <th>159999</th>\n",
       "      <td>285087</td>\n",
       "      <td>0</td>\n",
       "      <td>1993508192</td>\n",
       "      <td>Mon Jun 01 10:29:26 PDT 2009</td>\n",
       "      <td>NO_QUERY</td>\n",
       "      <td>ophelia24</td>\n",
       "      <td>ihate random drug tests work fun me</td>\n",
       "    </tr>\n",
       "  </tbody>\n",
       "</table>\n",
       "<p>160000 rows × 7 columns</p>\n",
       "</div>"
      ],
      "text/plain": [
       "          index  sentiment          id                          date   \n",
       "0        726519          0  2262592484  Sat Jun 20 22:49:27 PDT 2009  \\\n",
       "1       1542658          4  2181126046  Mon Jun 15 11:24:10 PDT 2009   \n",
       "2        718644          0  2260354167  Sat Jun 20 19:04:56 PDT 2009   \n",
       "3        184889          0  1967828662  Fri May 29 20:17:01 PDT 2009   \n",
       "4        647146          0  2236687962  Fri Jun 19 04:18:25 PDT 2009   \n",
       "...         ...        ...         ...                           ...   \n",
       "159995   276863          0  1991132925  Mon Jun 01 06:28:03 PDT 2009   \n",
       "159996  1290214          4  2002711715  Tue Jun 02 04:58:13 PDT 2009   \n",
       "159997  1318728          4  2014401758  Wed Jun 03 01:24:38 PDT 2009   \n",
       "159998  1048413          4  1960144867  Fri May 29 07:29:44 PDT 2009   \n",
       "159999   285087          0  1993508192  Mon Jun 01 10:29:26 PDT 2009   \n",
       "\n",
       "           query       user_name   \n",
       "0       NO_QUERY        Blonde36  \\\n",
       "1       NO_QUERY    MartinaEfron   \n",
       "2       NO_QUERY       danicastr   \n",
       "3       NO_QUERY  missioncuracao   \n",
       "4       NO_QUERY      JamesLeon1   \n",
       "...          ...             ...   \n",
       "159995  NO_QUERY        kookijhe   \n",
       "159996  NO_QUERY            _jev   \n",
       "159997  NO_QUERY       Shoko_RDJ   \n",
       "159998  NO_QUERY        LoloJ256   \n",
       "159999  NO_QUERY       ophelia24   \n",
       "\n",
       "                                                    tweet  \n",
       "0                                                    torn  \n",
       "1       ddlovato demiiii teen choice awards wooow im s...  \n",
       "2                                tommcfly oun tom ok haha  \n",
       "3                                 codywilbanks sorry loss  \n",
       "4       myfizzypop quite distraught this thought would...  \n",
       "...                                                   ...  \n",
       "159995                                 suffering backache  \n",
       "159996  sandis flooding multiply albums comments oh mi...  \n",
       "159997  dyana thanx im glad u glad story heartwarming ...  \n",
       "159998  sister comes today excited later picking cap g...  \n",
       "159999                ihate random drug tests work fun me  \n",
       "\n",
       "[160000 rows x 7 columns]"
      ]
     },
     "execution_count": 22,
     "metadata": {},
     "output_type": "execute_result"
    }
   ],
   "source": [
    "tweet_df"
   ]
  },
  {
   "cell_type": "markdown",
   "id": "86f96c7d",
   "metadata": {},
   "source": [
    "### Label Encoding"
   ]
  },
  {
   "cell_type": "code",
   "execution_count": 23,
   "id": "c215a303",
   "metadata": {
    "id": "c215a303"
   },
   "outputs": [],
   "source": [
    "from sklearn.preprocessing import LabelEncoder\n",
    "en=LabelEncoder()\n",
    "tweet_df['sentiment']=en.fit_transform(tweet_df['sentiment'])"
   ]
  },
  {
   "cell_type": "code",
   "execution_count": 25,
   "id": "05248d24",
   "metadata": {
    "id": "05248d24",
    "outputId": "816b8203-47c2-4af2-efc2-59468720d87f"
   },
   "outputs": [
    {
     "data": {
      "text/html": [
       "<div>\n",
       "<style scoped>\n",
       "    .dataframe tbody tr th:only-of-type {\n",
       "        vertical-align: middle;\n",
       "    }\n",
       "\n",
       "    .dataframe tbody tr th {\n",
       "        vertical-align: top;\n",
       "    }\n",
       "\n",
       "    .dataframe thead th {\n",
       "        text-align: right;\n",
       "    }\n",
       "</style>\n",
       "<table border=\"1\" class=\"dataframe\">\n",
       "  <thead>\n",
       "    <tr style=\"text-align: right;\">\n",
       "      <th></th>\n",
       "      <th>sentiment</th>\n",
       "      <th>tweet</th>\n",
       "    </tr>\n",
       "  </thead>\n",
       "  <tbody>\n",
       "    <tr>\n",
       "      <th>0</th>\n",
       "      <td>0</td>\n",
       "      <td>torn</td>\n",
       "    </tr>\n",
       "    <tr>\n",
       "      <th>1</th>\n",
       "      <td>1</td>\n",
       "      <td>ddlovato demiiii teen choice awards wooow im s...</td>\n",
       "    </tr>\n",
       "    <tr>\n",
       "      <th>2</th>\n",
       "      <td>0</td>\n",
       "      <td>tommcfly oun tom ok haha</td>\n",
       "    </tr>\n",
       "    <tr>\n",
       "      <th>3</th>\n",
       "      <td>0</td>\n",
       "      <td>codywilbanks sorry loss</td>\n",
       "    </tr>\n",
       "    <tr>\n",
       "      <th>4</th>\n",
       "      <td>0</td>\n",
       "      <td>myfizzypop quite distraught this thought would...</td>\n",
       "    </tr>\n",
       "    <tr>\n",
       "      <th>...</th>\n",
       "      <td>...</td>\n",
       "      <td>...</td>\n",
       "    </tr>\n",
       "    <tr>\n",
       "      <th>159995</th>\n",
       "      <td>0</td>\n",
       "      <td>suffering backache</td>\n",
       "    </tr>\n",
       "    <tr>\n",
       "      <th>159996</th>\n",
       "      <td>1</td>\n",
       "      <td>sandis flooding multiply albums comments oh mi...</td>\n",
       "    </tr>\n",
       "    <tr>\n",
       "      <th>159997</th>\n",
       "      <td>1</td>\n",
       "      <td>dyana thanx im glad u glad story heartwarming ...</td>\n",
       "    </tr>\n",
       "    <tr>\n",
       "      <th>159998</th>\n",
       "      <td>1</td>\n",
       "      <td>sister comes today excited later picking cap g...</td>\n",
       "    </tr>\n",
       "    <tr>\n",
       "      <th>159999</th>\n",
       "      <td>0</td>\n",
       "      <td>ihate random drug tests work fun me</td>\n",
       "    </tr>\n",
       "  </tbody>\n",
       "</table>\n",
       "<p>160000 rows × 2 columns</p>\n",
       "</div>"
      ],
      "text/plain": [
       "        sentiment                                              tweet\n",
       "0               0                                               torn\n",
       "1               1  ddlovato demiiii teen choice awards wooow im s...\n",
       "2               0                           tommcfly oun tom ok haha\n",
       "3               0                            codywilbanks sorry loss\n",
       "4               0  myfizzypop quite distraught this thought would...\n",
       "...           ...                                                ...\n",
       "159995          0                                 suffering backache\n",
       "159996          1  sandis flooding multiply albums comments oh mi...\n",
       "159997          1  dyana thanx im glad u glad story heartwarming ...\n",
       "159998          1  sister comes today excited later picking cap g...\n",
       "159999          0                ihate random drug tests work fun me\n",
       "\n",
       "[160000 rows x 2 columns]"
      ]
     },
     "execution_count": 25,
     "metadata": {},
     "output_type": "execute_result"
    }
   ],
   "source": [
    "tweet_df = tweet_df.drop(['index', 'id', 'date', 'query', 'user_name'], axis=1)\n",
    "tweet_df"
   ]
  },
  {
   "cell_type": "markdown",
   "id": "444a06b8",
   "metadata": {},
   "source": [
    "### Splitting the Data"
   ]
  },
  {
   "cell_type": "code",
   "execution_count": 26,
   "id": "11005245",
   "metadata": {
    "id": "11005245"
   },
   "outputs": [],
   "source": [
    "x = tweet_df['tweet']\n",
    "y = tweet_df['sentiment']"
   ]
  },
  {
   "cell_type": "code",
   "execution_count": 27,
   "id": "f9f88eeb",
   "metadata": {
    "id": "f9f88eeb"
   },
   "outputs": [],
   "source": [
    "from sklearn.model_selection import train_test_split\n",
    "x_train, x_test, y_train, y_test=train_test_split(x, y, test_size=0.25, random_state=42)"
   ]
  },
  {
   "cell_type": "code",
   "execution_count": 28,
   "id": "9e3f0f4c",
   "metadata": {
    "id": "9e3f0f4c"
   },
   "outputs": [],
   "source": [
    "train_size = int(tweet_df.shape[0]*0.8)\n",
    "x_train = tweet_df['tweet'][:train_size]\n",
    "y_train = tweet_df['sentiment'][:train_size]\n",
    "\n",
    "x_test = tweet_df['tweet'][train_size:]\n",
    "y_test = tweet_df['sentiment'][train_size:]"
   ]
  },
  {
   "cell_type": "code",
   "execution_count": 29,
   "id": "f40088e4",
   "metadata": {
    "id": "f40088e4",
    "outputId": "d7cdee23-edad-4352-98d1-a6650e601208"
   },
   "outputs": [
    {
     "data": {
      "text/plain": [
       "(128000, (128000,), (128000,), (32000,), (32000,))"
      ]
     },
     "execution_count": 29,
     "metadata": {},
     "output_type": "execute_result"
    }
   ],
   "source": [
    "train_size, x_train.shape, y_train.shape, x_test.shape, y_test.shape"
   ]
  },
  {
   "cell_type": "markdown",
   "id": "acab70ba",
   "metadata": {},
   "source": [
    "### Tokenizing & Padding"
   ]
  },
  {
   "cell_type": "code",
   "execution_count": 30,
   "id": "ff057edf",
   "metadata": {},
   "outputs": [
    {
     "name": "stderr",
     "output_type": "stream",
     "text": [
      "2023-05-13 22:53:39.126344: I tensorflow/core/platform/cpu_feature_guard.cc:182] This TensorFlow binary is optimized to use available CPU instructions in performance-critical operations.\n",
      "To enable the following instructions: AVX2 FMA, in other operations, rebuild TensorFlow with the appropriate compiler flags.\n"
     ]
    }
   ],
   "source": [
    "from keras.preprocessing.text import Tokenizer  # Converts words into numeric values\n",
    "from tensorflow.keras.preprocessing.sequence import pad_sequences  # Equals all the sentences by filling 0"
   ]
  },
  {
   "cell_type": "code",
   "execution_count": 31,
   "id": "e7a938b5",
   "metadata": {
    "id": "e7a938b5"
   },
   "outputs": [],
   "source": [
    "tokenizer = Tokenizer(num_words)\n",
    "tokenizer.fit_on_texts(x_train)\n",
    "x_train = tokenizer.texts_to_sequences(x_train)\n",
    "x_train = pad_sequences(x_train, maxlen = 30, truncating = 'post', padding='post')"
   ]
  },
  {
   "cell_type": "code",
   "execution_count": 32,
   "id": "928f0f2c",
   "metadata": {
    "id": "928f0f2c",
    "outputId": "d4c7f350-eab6-4177-d40b-7ce5912cd519"
   },
   "outputs": [
    {
     "data": {
      "text/plain": [
       "(array([  562, 33525,  3297,  1244,   637,  6316,     1,   342,    53,\n",
       "           40,  1285,   840,    43,   610,    40,     0,     0,     0,\n",
       "            0,     0,     0,     0,     0,     0,     0,     0,     0,\n",
       "            0,     0,     0], dtype=int32),\n",
       " 30)"
      ]
     },
     "execution_count": 32,
     "metadata": {},
     "output_type": "execute_result"
    }
   ],
   "source": [
    "x_train[1], len(x_train[1])"
   ]
  },
  {
   "cell_type": "code",
   "execution_count": 33,
   "id": "bcb222a5",
   "metadata": {
    "id": "bcb222a5"
   },
   "outputs": [],
   "source": [
    "x_test = tokenizer.texts_to_sequences(x_test)\n",
    "x_test = pad_sequences(x_test, maxlen = 30, truncating = 'post', padding='post')"
   ]
  },
  {
   "cell_type": "code",
   "execution_count": 34,
   "id": "b52324dd",
   "metadata": {
    "id": "b52324dd",
    "outputId": "fca6f872-faed-4da2-9b04-d3388aa5db83"
   },
   "outputs": [
    {
     "data": {
      "text/plain": [
       "((128000, 30), (128000,), (32000, 30), (32000,))"
      ]
     },
     "execution_count": 34,
     "metadata": {},
     "output_type": "execute_result"
    }
   ],
   "source": [
    "x_train.shape, y_train.shape, x_test.shape, y_test.shape"
   ]
  },
  {
   "cell_type": "markdown",
   "id": "af02b859",
   "metadata": {},
   "source": [
    "### LSTM Model Building"
   ]
  },
  {
   "cell_type": "code",
   "execution_count": 35,
   "id": "9eb53e5e",
   "metadata": {},
   "outputs": [],
   "source": [
    "from keras.models import Sequential\n",
    "from keras.layers import Embedding, LSTM, GRU, Dense, Dropout"
   ]
  },
  {
   "cell_type": "code",
   "execution_count": 36,
   "id": "7bea7402",
   "metadata": {
    "id": "7bea7402",
    "outputId": "e2ca64c2-a9a9-4bfb-8d44-b85281785aae",
    "scrolled": false
   },
   "outputs": [
    {
     "name": "stderr",
     "output_type": "stream",
     "text": [
      "2023-05-13 22:55:12.731729: I tensorflow/core/common_runtime/executor.cc:1197] [/device:CPU:0] (DEBUG INFO) Executor start aborting (this does not indicate an error and you can ignore this message): INVALID_ARGUMENT: You must feed a value for placeholder tensor 'gradients/split_2_grad/concat/split_2/split_dim' with dtype int32\n",
      "\t [[{{node gradients/split_2_grad/concat/split_2/split_dim}}]]\n",
      "2023-05-13 22:55:12.736061: I tensorflow/core/common_runtime/executor.cc:1197] [/device:CPU:0] (DEBUG INFO) Executor start aborting (this does not indicate an error and you can ignore this message): INVALID_ARGUMENT: You must feed a value for placeholder tensor 'gradients/split_grad/concat/split/split_dim' with dtype int32\n",
      "\t [[{{node gradients/split_grad/concat/split/split_dim}}]]\n",
      "2023-05-13 22:55:12.739692: I tensorflow/core/common_runtime/executor.cc:1197] [/device:CPU:0] (DEBUG INFO) Executor start aborting (this does not indicate an error and you can ignore this message): INVALID_ARGUMENT: You must feed a value for placeholder tensor 'gradients/split_1_grad/concat/split_1/split_dim' with dtype int32\n",
      "\t [[{{node gradients/split_1_grad/concat/split_1/split_dim}}]]\n"
     ]
    },
    {
     "name": "stdout",
     "output_type": "stream",
     "text": [
      "Model: \"sequential\"\n",
      "_________________________________________________________________\n",
      " Layer (type)                Output Shape              Param #   \n",
      "=================================================================\n",
      " embedding (Embedding)       (None, 30, 100)           16000000  \n",
      "                                                                 \n",
      " lstm (LSTM)                 (None, 30, 100)           80400     \n",
      "                                                                 \n",
      " lstm_1 (LSTM)               (None, 100)               80400     \n",
      "                                                                 \n",
      " dense (Dense)               (None, 1)                 101       \n",
      "                                                                 \n",
      "=================================================================\n",
      "Total params: 16,160,901\n",
      "Trainable params: 16,160,901\n",
      "Non-trainable params: 0\n",
      "_________________________________________________________________\n"
     ]
    },
    {
     "name": "stderr",
     "output_type": "stream",
     "text": [
      "2023-05-13 22:55:13.214313: I tensorflow/core/common_runtime/executor.cc:1197] [/device:CPU:0] (DEBUG INFO) Executor start aborting (this does not indicate an error and you can ignore this message): INVALID_ARGUMENT: You must feed a value for placeholder tensor 'gradients/split_2_grad/concat/split_2/split_dim' with dtype int32\n",
      "\t [[{{node gradients/split_2_grad/concat/split_2/split_dim}}]]\n",
      "2023-05-13 22:55:13.217224: I tensorflow/core/common_runtime/executor.cc:1197] [/device:CPU:0] (DEBUG INFO) Executor start aborting (this does not indicate an error and you can ignore this message): INVALID_ARGUMENT: You must feed a value for placeholder tensor 'gradients/split_grad/concat/split/split_dim' with dtype int32\n",
      "\t [[{{node gradients/split_grad/concat/split/split_dim}}]]\n",
      "2023-05-13 22:55:13.219687: I tensorflow/core/common_runtime/executor.cc:1197] [/device:CPU:0] (DEBUG INFO) Executor start aborting (this does not indicate an error and you can ignore this message): INVALID_ARGUMENT: You must feed a value for placeholder tensor 'gradients/split_1_grad/concat/split_1/split_dim' with dtype int32\n",
      "\t [[{{node gradients/split_1_grad/concat/split_1/split_dim}}]]\n"
     ]
    }
   ],
   "source": [
    "lstm_model =  Sequential()\n",
    "lstm_model.add(Embedding(input_dim=num_words, output_dim=100, input_length=30, trainable=True))\n",
    "lstm_model.add(LSTM(100, dropout=0.1, return_sequences=True))\n",
    "lstm_model.add(LSTM(100, dropout=0.1))\n",
    "lstm_model.add(Dense(1, activation='sigmoid'))\n",
    "lstm_model.summary()"
   ]
  },
  {
   "cell_type": "markdown",
   "id": "fdcb2dce",
   "metadata": {},
   "source": [
    "### Compile & Fit the Model"
   ]
  },
  {
   "cell_type": "code",
   "execution_count": 37,
   "id": "4a5d9bb8",
   "metadata": {
    "id": "4a5d9bb8"
   },
   "outputs": [],
   "source": [
    "lstm_model.compile(loss='binary_crossentropy', optimizer = 'adam', metrics = ['accuracy'])"
   ]
  },
  {
   "cell_type": "code",
   "execution_count": 38,
   "id": "a3245202",
   "metadata": {
    "id": "a3245202"
   },
   "outputs": [],
   "source": [
    "import tensorflow as tf\n",
    "early_stopping=tf.keras.callbacks.EarlyStopping(\n",
    "    monitor=\"val_loss\",\n",
    "    min_delta=0.001,\n",
    "    patience=5,\n",
    "    verbose=1,\n",
    "    mode=\"auto\",\n",
    "    baseline=None,\n",
    "    restore_best_weights=False,\n",
    ")"
   ]
  },
  {
   "cell_type": "code",
   "execution_count": 39,
   "id": "7596e8f2",
   "metadata": {
    "id": "7596e8f2",
    "outputId": "fe9e9671-cc11-4609-c510-29674d8e57ee",
    "scrolled": false
   },
   "outputs": [
    {
     "name": "stdout",
     "output_type": "stream",
     "text": [
      "Epoch 1/100\n"
     ]
    },
    {
     "name": "stderr",
     "output_type": "stream",
     "text": [
      "2023-05-13 22:55:28.727775: I tensorflow/core/common_runtime/executor.cc:1197] [/device:CPU:0] (DEBUG INFO) Executor start aborting (this does not indicate an error and you can ignore this message): INVALID_ARGUMENT: You must feed a value for placeholder tensor 'gradients/split_2_grad/concat/split_2/split_dim' with dtype int32\n",
      "\t [[{{node gradients/split_2_grad/concat/split_2/split_dim}}]]\n",
      "2023-05-13 22:55:28.731260: I tensorflow/core/common_runtime/executor.cc:1197] [/device:CPU:0] (DEBUG INFO) Executor start aborting (this does not indicate an error and you can ignore this message): INVALID_ARGUMENT: You must feed a value for placeholder tensor 'gradients/split_grad/concat/split/split_dim' with dtype int32\n",
      "\t [[{{node gradients/split_grad/concat/split/split_dim}}]]\n",
      "2023-05-13 22:55:28.735217: I tensorflow/core/common_runtime/executor.cc:1197] [/device:CPU:0] (DEBUG INFO) Executor start aborting (this does not indicate an error and you can ignore this message): INVALID_ARGUMENT: You must feed a value for placeholder tensor 'gradients/split_1_grad/concat/split_1/split_dim' with dtype int32\n",
      "\t [[{{node gradients/split_1_grad/concat/split_1/split_dim}}]]\n",
      "2023-05-13 22:55:29.143673: I tensorflow/core/common_runtime/executor.cc:1197] [/device:CPU:0] (DEBUG INFO) Executor start aborting (this does not indicate an error and you can ignore this message): INVALID_ARGUMENT: You must feed a value for placeholder tensor 'gradients/split_2_grad/concat/split_2/split_dim' with dtype int32\n",
      "\t [[{{node gradients/split_2_grad/concat/split_2/split_dim}}]]\n",
      "2023-05-13 22:55:29.146824: I tensorflow/core/common_runtime/executor.cc:1197] [/device:CPU:0] (DEBUG INFO) Executor start aborting (this does not indicate an error and you can ignore this message): INVALID_ARGUMENT: You must feed a value for placeholder tensor 'gradients/split_grad/concat/split/split_dim' with dtype int32\n",
      "\t [[{{node gradients/split_grad/concat/split/split_dim}}]]\n",
      "2023-05-13 22:55:29.149374: I tensorflow/core/common_runtime/executor.cc:1197] [/device:CPU:0] (DEBUG INFO) Executor start aborting (this does not indicate an error and you can ignore this message): INVALID_ARGUMENT: You must feed a value for placeholder tensor 'gradients/split_1_grad/concat/split_1/split_dim' with dtype int32\n",
      "\t [[{{node gradients/split_1_grad/concat/split_1/split_dim}}]]\n",
      "2023-05-13 22:55:31.119228: I tensorflow/core/common_runtime/executor.cc:1197] [/device:CPU:0] (DEBUG INFO) Executor start aborting (this does not indicate an error and you can ignore this message): INVALID_ARGUMENT: You must feed a value for placeholder tensor 'gradients/split_2_grad/concat/split_2/split_dim' with dtype int32\n",
      "\t [[{{node gradients/split_2_grad/concat/split_2/split_dim}}]]\n",
      "2023-05-13 22:55:31.123893: I tensorflow/core/common_runtime/executor.cc:1197] [/device:CPU:0] (DEBUG INFO) Executor start aborting (this does not indicate an error and you can ignore this message): INVALID_ARGUMENT: You must feed a value for placeholder tensor 'gradients/split_grad/concat/split/split_dim' with dtype int32\n",
      "\t [[{{node gradients/split_grad/concat/split/split_dim}}]]\n",
      "2023-05-13 22:55:31.128062: I tensorflow/core/common_runtime/executor.cc:1197] [/device:CPU:0] (DEBUG INFO) Executor start aborting (this does not indicate an error and you can ignore this message): INVALID_ARGUMENT: You must feed a value for placeholder tensor 'gradients/split_1_grad/concat/split_1/split_dim' with dtype int32\n",
      "\t [[{{node gradients/split_1_grad/concat/split_1/split_dim}}]]\n",
      "2023-05-13 22:55:31.632251: I tensorflow/core/common_runtime/executor.cc:1197] [/device:CPU:0] (DEBUG INFO) Executor start aborting (this does not indicate an error and you can ignore this message): INVALID_ARGUMENT: You must feed a value for placeholder tensor 'gradients/split_2_grad/concat/split_2/split_dim' with dtype int32\n",
      "\t [[{{node gradients/split_2_grad/concat/split_2/split_dim}}]]\n",
      "2023-05-13 22:55:31.636093: I tensorflow/core/common_runtime/executor.cc:1197] [/device:CPU:0] (DEBUG INFO) Executor start aborting (this does not indicate an error and you can ignore this message): INVALID_ARGUMENT: You must feed a value for placeholder tensor 'gradients/split_grad/concat/split/split_dim' with dtype int32\n",
      "\t [[{{node gradients/split_grad/concat/split/split_dim}}]]\n",
      "2023-05-13 22:55:31.638974: I tensorflow/core/common_runtime/executor.cc:1197] [/device:CPU:0] (DEBUG INFO) Executor start aborting (this does not indicate an error and you can ignore this message): INVALID_ARGUMENT: You must feed a value for placeholder tensor 'gradients/split_1_grad/concat/split_1/split_dim' with dtype int32\n",
      "\t [[{{node gradients/split_1_grad/concat/split_1/split_dim}}]]\n"
     ]
    },
    {
     "name": "stdout",
     "output_type": "stream",
     "text": [
      "500/500 [==============================] - ETA: 0s - loss: 0.5382 - accuracy: 0.7141"
     ]
    },
    {
     "name": "stderr",
     "output_type": "stream",
     "text": [
      "2023-05-13 23:00:35.178236: I tensorflow/core/common_runtime/executor.cc:1197] [/device:CPU:0] (DEBUG INFO) Executor start aborting (this does not indicate an error and you can ignore this message): INVALID_ARGUMENT: You must feed a value for placeholder tensor 'gradients/split_2_grad/concat/split_2/split_dim' with dtype int32\n",
      "\t [[{{node gradients/split_2_grad/concat/split_2/split_dim}}]]\n",
      "2023-05-13 23:00:35.181993: I tensorflow/core/common_runtime/executor.cc:1197] [/device:CPU:0] (DEBUG INFO) Executor start aborting (this does not indicate an error and you can ignore this message): INVALID_ARGUMENT: You must feed a value for placeholder tensor 'gradients/split_grad/concat/split/split_dim' with dtype int32\n",
      "\t [[{{node gradients/split_grad/concat/split/split_dim}}]]\n",
      "2023-05-13 23:00:35.184181: I tensorflow/core/common_runtime/executor.cc:1197] [/device:CPU:0] (DEBUG INFO) Executor start aborting (this does not indicate an error and you can ignore this message): INVALID_ARGUMENT: You must feed a value for placeholder tensor 'gradients/split_1_grad/concat/split_1/split_dim' with dtype int32\n",
      "\t [[{{node gradients/split_1_grad/concat/split_1/split_dim}}]]\n",
      "2023-05-13 23:00:35.694794: I tensorflow/core/common_runtime/executor.cc:1197] [/device:CPU:0] (DEBUG INFO) Executor start aborting (this does not indicate an error and you can ignore this message): INVALID_ARGUMENT: You must feed a value for placeholder tensor 'gradients/split_2_grad/concat/split_2/split_dim' with dtype int32\n",
      "\t [[{{node gradients/split_2_grad/concat/split_2/split_dim}}]]\n",
      "2023-05-13 23:00:35.698837: I tensorflow/core/common_runtime/executor.cc:1197] [/device:CPU:0] (DEBUG INFO) Executor start aborting (this does not indicate an error and you can ignore this message): INVALID_ARGUMENT: You must feed a value for placeholder tensor 'gradients/split_grad/concat/split/split_dim' with dtype int32\n",
      "\t [[{{node gradients/split_grad/concat/split/split_dim}}]]\n",
      "2023-05-13 23:00:35.701671: I tensorflow/core/common_runtime/executor.cc:1197] [/device:CPU:0] (DEBUG INFO) Executor start aborting (this does not indicate an error and you can ignore this message): INVALID_ARGUMENT: You must feed a value for placeholder tensor 'gradients/split_1_grad/concat/split_1/split_dim' with dtype int32\n",
      "\t [[{{node gradients/split_1_grad/concat/split_1/split_dim}}]]\n"
     ]
    },
    {
     "name": "stdout",
     "output_type": "stream",
     "text": [
      "500/500 [==============================] - 320s 628ms/step - loss: 0.5382 - accuracy: 0.7141 - val_loss: 0.4920 - val_accuracy: 0.7677\n",
      "Epoch 2/100\n",
      "500/500 [==============================] - 315s 630ms/step - loss: 0.3760 - accuracy: 0.8348 - val_loss: 0.5533 - val_accuracy: 0.7523\n",
      "Epoch 3/100\n",
      "500/500 [==============================] - 318s 636ms/step - loss: 0.2398 - accuracy: 0.9012 - val_loss: 0.6678 - val_accuracy: 0.7404\n",
      "Epoch 4/100\n",
      "500/500 [==============================] - 314s 628ms/step - loss: 0.1630 - accuracy: 0.9349 - val_loss: 0.7575 - val_accuracy: 0.7395\n",
      "Epoch 5/100\n",
      "500/500 [==============================] - 317s 633ms/step - loss: 0.1204 - accuracy: 0.9513 - val_loss: 0.9788 - val_accuracy: 0.7347\n",
      "Epoch 6/100\n",
      "500/500 [==============================] - 316s 632ms/step - loss: 0.0949 - accuracy: 0.9609 - val_loss: 0.9798 - val_accuracy: 0.7290\n",
      "Epoch 6: early stopping\n"
     ]
    }
   ],
   "source": [
    "history = lstm_model.fit(x_train, y_train, epochs=100, batch_size=256, \n",
    "              validation_data=(x_test, y_test), callbacks=early_stopping, verbose=True)"
   ]
  },
  {
   "cell_type": "code",
   "execution_count": 40,
   "id": "df05e08c",
   "metadata": {
    "id": "df05e08c",
    "outputId": "e7690648-d1b5-4e19-94a1-08fea7b36ad1"
   },
   "outputs": [
    {
     "data": {
      "image/png": "[encoded data removed]",
      "text/plain": [
       "<Figure size 640x480 with 1 Axes>"
      ]
     },
     "metadata": {},
     "output_type": "display_data"
    }
   ],
   "source": [
    "plt.plot(history.history['accuracy'])\n",
    "plt.plot(history.history['val_accuracy'])\n",
    "plt.title(\"Model Accuracy\")\n",
    "plt.xlabel('Epochs')\n",
    "plt.ylabel('Accuracy')\n",
    "plt.legend(['train', 'val'], loc='upper left')\n",
    "plt.show()"
   ]
  },
  {
   "cell_type": "code",
   "execution_count": 41,
   "id": "0550ceb2",
   "metadata": {
    "id": "0550ceb2",
    "outputId": "82017b89-1b08-4666-a72d-904ed31f2295"
   },
   "outputs": [
    {
     "data": {
      "image/png": "[encoded data removed]",
      "text/plain": [
       "<Figure size 640x480 with 1 Axes>"
      ]
     },
     "metadata": {},
     "output_type": "display_data"
    }
   ],
   "source": [
    "plt.plot(history.history['loss'])\n",
    "plt.plot(history.history['val_loss'])\n",
    "plt.title(\"Model Loss\")\n",
    "plt.xlabel('Epochs')\n",
    "plt.ylabel('Loss')\n",
    "plt.legend(['train', 'val'], loc='upper left')\n",
    "plt.show()"
   ]
  },
  {
   "cell_type": "code",
   "execution_count": 42,
   "id": "dc196a0f",
   "metadata": {
    "id": "dc196a0f",
    "outputId": "129fc1b7-6d55-4e76-8f23-0e7fa5e9ccf1"
   },
   "outputs": [
    {
     "name": "stderr",
     "output_type": "stream",
     "text": [
      "2023-05-13 23:27:08.784559: I tensorflow/core/common_runtime/executor.cc:1197] [/device:CPU:0] (DEBUG INFO) Executor start aborting (this does not indicate an error and you can ignore this message): INVALID_ARGUMENT: You must feed a value for placeholder tensor 'gradients/split_2_grad/concat/split_2/split_dim' with dtype int32\n",
      "\t [[{{node gradients/split_2_grad/concat/split_2/split_dim}}]]\n",
      "2023-05-13 23:27:08.788172: I tensorflow/core/common_runtime/executor.cc:1197] [/device:CPU:0] (DEBUG INFO) Executor start aborting (this does not indicate an error and you can ignore this message): INVALID_ARGUMENT: You must feed a value for placeholder tensor 'gradients/split_grad/concat/split/split_dim' with dtype int32\n",
      "\t [[{{node gradients/split_grad/concat/split/split_dim}}]]\n",
      "2023-05-13 23:27:08.790955: I tensorflow/core/common_runtime/executor.cc:1197] [/device:CPU:0] (DEBUG INFO) Executor start aborting (this does not indicate an error and you can ignore this message): INVALID_ARGUMENT: You must feed a value for placeholder tensor 'gradients/split_1_grad/concat/split_1/split_dim' with dtype int32\n",
      "\t [[{{node gradients/split_1_grad/concat/split_1/split_dim}}]]\n",
      "2023-05-13 23:27:09.269988: I tensorflow/core/common_runtime/executor.cc:1197] [/device:CPU:0] (DEBUG INFO) Executor start aborting (this does not indicate an error and you can ignore this message): INVALID_ARGUMENT: You must feed a value for placeholder tensor 'gradients/split_2_grad/concat/split_2/split_dim' with dtype int32\n",
      "\t [[{{node gradients/split_2_grad/concat/split_2/split_dim}}]]\n",
      "2023-05-13 23:27:09.272854: I tensorflow/core/common_runtime/executor.cc:1197] [/device:CPU:0] (DEBUG INFO) Executor start aborting (this does not indicate an error and you can ignore this message): INVALID_ARGUMENT: You must feed a value for placeholder tensor 'gradients/split_grad/concat/split/split_dim' with dtype int32\n",
      "\t [[{{node gradients/split_grad/concat/split/split_dim}}]]\n",
      "2023-05-13 23:27:09.275402: I tensorflow/core/common_runtime/executor.cc:1197] [/device:CPU:0] (DEBUG INFO) Executor start aborting (this does not indicate an error and you can ignore this message): INVALID_ARGUMENT: You must feed a value for placeholder tensor 'gradients/split_1_grad/concat/split_1/split_dim' with dtype int32\n",
      "\t [[{{node gradients/split_1_grad/concat/split_1/split_dim}}]]\n"
     ]
    },
    {
     "name": "stdout",
     "output_type": "stream",
     "text": [
      "1000/1000 [==============================] - 23s 21ms/step - loss: 0.9798 - accuracy: 0.7290\n"
     ]
    },
    {
     "data": {
      "text/plain": [
       "[0.9798044562339783, 0.7289687395095825]"
      ]
     },
     "execution_count": 42,
     "metadata": {},
     "output_type": "execute_result"
    }
   ],
   "source": [
    "lstm_model.evaluate(x_test, y_test)"
   ]
  },
  {
   "cell_type": "markdown",
   "id": "016b9337",
   "metadata": {
    "id": "e916836d"
   },
   "source": [
    "So we got 72.90% Test Accuracy with LSTM Model."
   ]
  },
  {
   "cell_type": "markdown",
   "id": "cc5381c7",
   "metadata": {},
   "source": [
    "### GRU Building Model"
   ]
  },
  {
   "cell_type": "code",
   "execution_count": 43,
   "id": "e0a0ca32",
   "metadata": {
    "scrolled": false
   },
   "outputs": [
    {
     "name": "stderr",
     "output_type": "stream",
     "text": [
      "2023-05-13 23:28:16.539424: I tensorflow/core/common_runtime/executor.cc:1197] [/device:CPU:0] (DEBUG INFO) Executor start aborting (this does not indicate an error and you can ignore this message): INVALID_ARGUMENT: You must feed a value for placeholder tensor 'gradients/split_2_grad/concat/split_2/split_dim' with dtype int32\n",
      "\t [[{{node gradients/split_2_grad/concat/split_2/split_dim}}]]\n",
      "2023-05-13 23:28:16.545141: I tensorflow/core/common_runtime/executor.cc:1197] [/device:CPU:0] (DEBUG INFO) Executor start aborting (this does not indicate an error and you can ignore this message): INVALID_ARGUMENT: You must feed a value for placeholder tensor 'gradients/split_grad/concat/split/split_dim' with dtype int32\n",
      "\t [[{{node gradients/split_grad/concat/split/split_dim}}]]\n",
      "2023-05-13 23:28:16.548964: I tensorflow/core/common_runtime/executor.cc:1197] [/device:CPU:0] (DEBUG INFO) Executor start aborting (this does not indicate an error and you can ignore this message): INVALID_ARGUMENT: You must feed a value for placeholder tensor 'gradients/split_1_grad/concat/split_1/split_dim' with dtype int32\n",
      "\t [[{{node gradients/split_1_grad/concat/split_1/split_dim}}]]\n"
     ]
    },
    {
     "name": "stdout",
     "output_type": "stream",
     "text": [
      "Epoch 1/10\n"
     ]
    },
    {
     "name": "stderr",
     "output_type": "stream",
     "text": [
      "2023-05-13 23:28:17.043443: I tensorflow/core/common_runtime/executor.cc:1197] [/device:CPU:0] (DEBUG INFO) Executor start aborting (this does not indicate an error and you can ignore this message): INVALID_ARGUMENT: You must feed a value for placeholder tensor 'gradients/split_2_grad/concat/split_2/split_dim' with dtype int32\n",
      "\t [[{{node gradients/split_2_grad/concat/split_2/split_dim}}]]\n",
      "2023-05-13 23:28:17.047154: I tensorflow/core/common_runtime/executor.cc:1197] [/device:CPU:0] (DEBUG INFO) Executor start aborting (this does not indicate an error and you can ignore this message): INVALID_ARGUMENT: You must feed a value for placeholder tensor 'gradients/split_grad/concat/split/split_dim' with dtype int32\n",
      "\t [[{{node gradients/split_grad/concat/split/split_dim}}]]\n",
      "2023-05-13 23:28:17.050478: I tensorflow/core/common_runtime/executor.cc:1197] [/device:CPU:0] (DEBUG INFO) Executor start aborting (this does not indicate an error and you can ignore this message): INVALID_ARGUMENT: You must feed a value for placeholder tensor 'gradients/split_1_grad/concat/split_1/split_dim' with dtype int32\n",
      "\t [[{{node gradients/split_1_grad/concat/split_1/split_dim}}]]\n",
      "2023-05-13 23:28:17.714606: I tensorflow/core/common_runtime/executor.cc:1197] [/device:CPU:0] (DEBUG INFO) Executor start aborting (this does not indicate an error and you can ignore this message): INVALID_ARGUMENT: You must feed a value for placeholder tensor 'gradients/split_2_grad/concat/split_2/split_dim' with dtype int32\n",
      "\t [[{{node gradients/split_2_grad/concat/split_2/split_dim}}]]\n",
      "2023-05-13 23:28:17.718885: I tensorflow/core/common_runtime/executor.cc:1197] [/device:CPU:0] (DEBUG INFO) Executor start aborting (this does not indicate an error and you can ignore this message): INVALID_ARGUMENT: You must feed a value for placeholder tensor 'gradients/split_grad/concat/split/split_dim' with dtype int32\n",
      "\t [[{{node gradients/split_grad/concat/split/split_dim}}]]\n",
      "2023-05-13 23:28:17.722085: I tensorflow/core/common_runtime/executor.cc:1197] [/device:CPU:0] (DEBUG INFO) Executor start aborting (this does not indicate an error and you can ignore this message): INVALID_ARGUMENT: You must feed a value for placeholder tensor 'gradients/split_1_grad/concat/split_1/split_dim' with dtype int32\n",
      "\t [[{{node gradients/split_1_grad/concat/split_1/split_dim}}]]\n",
      "2023-05-13 23:28:18.162972: I tensorflow/core/common_runtime/executor.cc:1197] [/device:CPU:0] (DEBUG INFO) Executor start aborting (this does not indicate an error and you can ignore this message): INVALID_ARGUMENT: You must feed a value for placeholder tensor 'gradients/split_2_grad/concat/split_2/split_dim' with dtype int32\n",
      "\t [[{{node gradients/split_2_grad/concat/split_2/split_dim}}]]\n",
      "2023-05-13 23:28:18.166587: I tensorflow/core/common_runtime/executor.cc:1197] [/device:CPU:0] (DEBUG INFO) Executor start aborting (this does not indicate an error and you can ignore this message): INVALID_ARGUMENT: You must feed a value for placeholder tensor 'gradients/split_grad/concat/split/split_dim' with dtype int32\n",
      "\t [[{{node gradients/split_grad/concat/split/split_dim}}]]\n",
      "2023-05-13 23:28:18.169171: I tensorflow/core/common_runtime/executor.cc:1197] [/device:CPU:0] (DEBUG INFO) Executor start aborting (this does not indicate an error and you can ignore this message): INVALID_ARGUMENT: You must feed a value for placeholder tensor 'gradients/split_1_grad/concat/split_1/split_dim' with dtype int32\n",
      "\t [[{{node gradients/split_1_grad/concat/split_1/split_dim}}]]\n",
      "2023-05-13 23:28:20.228862: I tensorflow/core/common_runtime/executor.cc:1197] [/device:CPU:0] (DEBUG INFO) Executor start aborting (this does not indicate an error and you can ignore this message): INVALID_ARGUMENT: You must feed a value for placeholder tensor 'gradients/split_2_grad/concat/split_2/split_dim' with dtype int32\n",
      "\t [[{{node gradients/split_2_grad/concat/split_2/split_dim}}]]\n",
      "2023-05-13 23:28:20.233625: I tensorflow/core/common_runtime/executor.cc:1197] [/device:CPU:0] (DEBUG INFO) Executor start aborting (this does not indicate an error and you can ignore this message): INVALID_ARGUMENT: You must feed a value for placeholder tensor 'gradients/split_grad/concat/split/split_dim' with dtype int32\n",
      "\t [[{{node gradients/split_grad/concat/split/split_dim}}]]\n",
      "2023-05-13 23:28:20.235958: I tensorflow/core/common_runtime/executor.cc:1197] [/device:CPU:0] (DEBUG INFO) Executor start aborting (this does not indicate an error and you can ignore this message): INVALID_ARGUMENT: You must feed a value for placeholder tensor 'gradients/split_1_grad/concat/split_1/split_dim' with dtype int32\n",
      "\t [[{{node gradients/split_1_grad/concat/split_1/split_dim}}]]\n",
      "2023-05-13 23:28:20.684638: I tensorflow/core/common_runtime/executor.cc:1197] [/device:CPU:0] (DEBUG INFO) Executor start aborting (this does not indicate an error and you can ignore this message): INVALID_ARGUMENT: You must feed a value for placeholder tensor 'gradients/split_2_grad/concat/split_2/split_dim' with dtype int32\n",
      "\t [[{{node gradients/split_2_grad/concat/split_2/split_dim}}]]\n",
      "2023-05-13 23:28:20.688101: I tensorflow/core/common_runtime/executor.cc:1197] [/device:CPU:0] (DEBUG INFO) Executor start aborting (this does not indicate an error and you can ignore this message): INVALID_ARGUMENT: You must feed a value for placeholder tensor 'gradients/split_grad/concat/split/split_dim' with dtype int32\n",
      "\t [[{{node gradients/split_grad/concat/split/split_dim}}]]\n",
      "2023-05-13 23:28:20.691139: I tensorflow/core/common_runtime/executor.cc:1197] [/device:CPU:0] (DEBUG INFO) Executor start aborting (this does not indicate an error and you can ignore this message): INVALID_ARGUMENT: You must feed a value for placeholder tensor 'gradients/split_1_grad/concat/split_1/split_dim' with dtype int32\n",
      "\t [[{{node gradients/split_1_grad/concat/split_1/split_dim}}]]\n"
     ]
    },
    {
     "name": "stdout",
     "output_type": "stream",
     "text": [
      "1000/1000 [==============================] - ETA: 0s - loss: 0.6907 - accuracy: 0.5057"
     ]
    },
    {
     "name": "stderr",
     "output_type": "stream",
     "text": [
      "2023-05-13 23:35:44.756660: I tensorflow/core/common_runtime/executor.cc:1197] [/device:CPU:0] (DEBUG INFO) Executor start aborting (this does not indicate an error and you can ignore this message): INVALID_ARGUMENT: You must feed a value for placeholder tensor 'gradients/split_2_grad/concat/split_2/split_dim' with dtype int32\n",
      "\t [[{{node gradients/split_2_grad/concat/split_2/split_dim}}]]\n",
      "2023-05-13 23:35:44.761326: I tensorflow/core/common_runtime/executor.cc:1197] [/device:CPU:0] (DEBUG INFO) Executor start aborting (this does not indicate an error and you can ignore this message): INVALID_ARGUMENT: You must feed a value for placeholder tensor 'gradients/split_grad/concat/split/split_dim' with dtype int32\n",
      "\t [[{{node gradients/split_grad/concat/split/split_dim}}]]\n",
      "2023-05-13 23:35:44.763943: I tensorflow/core/common_runtime/executor.cc:1197] [/device:CPU:0] (DEBUG INFO) Executor start aborting (this does not indicate an error and you can ignore this message): INVALID_ARGUMENT: You must feed a value for placeholder tensor 'gradients/split_1_grad/concat/split_1/split_dim' with dtype int32\n",
      "\t [[{{node gradients/split_1_grad/concat/split_1/split_dim}}]]\n",
      "2023-05-13 23:35:45.154056: I tensorflow/core/common_runtime/executor.cc:1197] [/device:CPU:0] (DEBUG INFO) Executor start aborting (this does not indicate an error and you can ignore this message): INVALID_ARGUMENT: You must feed a value for placeholder tensor 'gradients/split_2_grad/concat/split_2/split_dim' with dtype int32\n",
      "\t [[{{node gradients/split_2_grad/concat/split_2/split_dim}}]]\n",
      "2023-05-13 23:35:45.158451: I tensorflow/core/common_runtime/executor.cc:1197] [/device:CPU:0] (DEBUG INFO) Executor start aborting (this does not indicate an error and you can ignore this message): INVALID_ARGUMENT: You must feed a value for placeholder tensor 'gradients/split_grad/concat/split/split_dim' with dtype int32\n",
      "\t [[{{node gradients/split_grad/concat/split/split_dim}}]]\n",
      "2023-05-13 23:35:45.160974: I tensorflow/core/common_runtime/executor.cc:1197] [/device:CPU:0] (DEBUG INFO) Executor start aborting (this does not indicate an error and you can ignore this message): INVALID_ARGUMENT: You must feed a value for placeholder tensor 'gradients/split_1_grad/concat/split_1/split_dim' with dtype int32\n",
      "\t [[{{node gradients/split_1_grad/concat/split_1/split_dim}}]]\n"
     ]
    },
    {
     "name": "stdout",
     "output_type": "stream",
     "text": [
      "1000/1000 [==============================] - 460s 454ms/step - loss: 0.6907 - accuracy: 0.5057 - val_loss: 0.5944 - val_accuracy: 0.6918\n",
      "Epoch 2/10\n",
      "1000/1000 [==============================] - 453s 453ms/step - loss: 0.5072 - accuracy: 0.7526 - val_loss: 0.4895 - val_accuracy: 0.7684\n",
      "Epoch 3/10\n",
      "1000/1000 [==============================] - 452s 452ms/step - loss: 0.3266 - accuracy: 0.8604 - val_loss: 0.5589 - val_accuracy: 0.7500\n",
      "Epoch 4/10\n",
      "1000/1000 [==============================] - 453s 453ms/step - loss: 0.1880 - accuracy: 0.9241 - val_loss: 0.6454 - val_accuracy: 0.7439\n",
      "Epoch 5/10\n",
      "1000/1000 [==============================] - 454s 454ms/step - loss: 0.1188 - accuracy: 0.9517 - val_loss: 0.7936 - val_accuracy: 0.7333\n",
      "Epoch 6/10\n",
      "1000/1000 [==============================] - 460s 460ms/step - loss: 0.0867 - accuracy: 0.9650 - val_loss: 0.9339 - val_accuracy: 0.7291\n",
      "Epoch 7/10\n",
      "1000/1000 [==============================] - 571s 571ms/step - loss: 0.0682 - accuracy: 0.9722 - val_loss: 1.0735 - val_accuracy: 0.7283\n",
      "Epoch 8/10\n",
      "1000/1000 [==============================] - 473s 473ms/step - loss: 0.0561 - accuracy: 0.9768 - val_loss: 1.1614 - val_accuracy: 0.7229\n",
      "Epoch 9/10\n",
      "1000/1000 [==============================] - 477s 477ms/step - loss: 0.0473 - accuracy: 0.9810 - val_loss: 1.2882 - val_accuracy: 0.7185\n",
      "Epoch 10/10\n",
      "1000/1000 [==============================] - 465s 465ms/step - loss: 0.0406 - accuracy: 0.9836 - val_loss: 1.4054 - val_accuracy: 0.7207\n"
     ]
    }
   ],
   "source": [
    "gru_model = Sequential()\n",
    "gru_model.add(Embedding(input_dim=num_words, output_dim=100, input_length=30, trainable=True))\n",
    "gru_model.add(GRU(100, dropout=0.1, return_sequences=True))\n",
    "gru_model.add(GRU(100, dropout=0.1))\n",
    "gru_model.add(Dense(1, activation='sigmoid'))\n",
    "\n",
    "gru_model.compile(optimizer='adam', loss='binary_crossentropy', metrics=['accuracy'])\n",
    "history_1 = gru_model.fit(x_train, y_train, epochs=10, batch_size=128, validation_data=(x_test, y_test))"
   ]
  },
  {
   "cell_type": "code",
   "execution_count": 47,
   "id": "0174fa4e",
   "metadata": {},
   "outputs": [
    {
     "data": {
      "image/png": "[encoded data removed]",
      "text/plain": [
       "<Figure size 640x480 with 1 Axes>"
      ]
     },
     "metadata": {},
     "output_type": "display_data"
    }
   ],
   "source": [
    "plt.plot(history_1.history['accuracy'])\n",
    "plt.plot(history_1.history['val_accuracy'])\n",
    "plt.title(\"Model Accuracy\")\n",
    "plt.xlabel('Epochs')\n",
    "plt.ylabel('Accuracy')\n",
    "plt.legend(['train', 'val'], loc='upper left')\n",
    "plt.show()"
   ]
  },
  {
   "cell_type": "code",
   "execution_count": 48,
   "id": "09520ef2",
   "metadata": {},
   "outputs": [
    {
     "data": {
      "image/png": "[encoded data removed]",
      "text/plain": [
       "<Figure size 640x480 with 1 Axes>"
      ]
     },
     "metadata": {},
     "output_type": "display_data"
    }
   ],
   "source": [
    "plt.plot(history_1.history['loss'])\n",
    "plt.plot(history_1.history['val_loss'])\n",
    "plt.title(\"Model Loss\")\n",
    "plt.xlabel('Epochs')\n",
    "plt.ylabel('Loss')\n",
    "plt.legend(['train', 'val'], loc='upper left')\n",
    "plt.show()"
   ]
  },
  {
   "cell_type": "code",
   "execution_count": 44,
   "id": "9412a59f",
   "metadata": {},
   "outputs": [
    {
     "name": "stderr",
     "output_type": "stream",
     "text": [
      "2023-05-14 00:46:55.970166: I tensorflow/core/common_runtime/executor.cc:1197] [/device:CPU:0] (DEBUG INFO) Executor start aborting (this does not indicate an error and you can ignore this message): INVALID_ARGUMENT: You must feed a value for placeholder tensor 'gradients/split_2_grad/concat/split_2/split_dim' with dtype int32\n",
      "\t [[{{node gradients/split_2_grad/concat/split_2/split_dim}}]]\n",
      "2023-05-14 00:46:55.973653: I tensorflow/core/common_runtime/executor.cc:1197] [/device:CPU:0] (DEBUG INFO) Executor start aborting (this does not indicate an error and you can ignore this message): INVALID_ARGUMENT: You must feed a value for placeholder tensor 'gradients/split_grad/concat/split/split_dim' with dtype int32\n",
      "\t [[{{node gradients/split_grad/concat/split/split_dim}}]]\n",
      "2023-05-14 00:46:55.976794: I tensorflow/core/common_runtime/executor.cc:1197] [/device:CPU:0] (DEBUG INFO) Executor start aborting (this does not indicate an error and you can ignore this message): INVALID_ARGUMENT: You must feed a value for placeholder tensor 'gradients/split_1_grad/concat/split_1/split_dim' with dtype int32\n",
      "\t [[{{node gradients/split_1_grad/concat/split_1/split_dim}}]]\n",
      "2023-05-14 00:46:56.339227: I tensorflow/core/common_runtime/executor.cc:1197] [/device:CPU:0] (DEBUG INFO) Executor start aborting (this does not indicate an error and you can ignore this message): INVALID_ARGUMENT: You must feed a value for placeholder tensor 'gradients/split_2_grad/concat/split_2/split_dim' with dtype int32\n",
      "\t [[{{node gradients/split_2_grad/concat/split_2/split_dim}}]]\n",
      "2023-05-14 00:46:56.343796: I tensorflow/core/common_runtime/executor.cc:1197] [/device:CPU:0] (DEBUG INFO) Executor start aborting (this does not indicate an error and you can ignore this message): INVALID_ARGUMENT: You must feed a value for placeholder tensor 'gradients/split_grad/concat/split/split_dim' with dtype int32\n",
      "\t [[{{node gradients/split_grad/concat/split/split_dim}}]]\n",
      "2023-05-14 00:46:56.347547: I tensorflow/core/common_runtime/executor.cc:1197] [/device:CPU:0] (DEBUG INFO) Executor start aborting (this does not indicate an error and you can ignore this message): INVALID_ARGUMENT: You must feed a value for placeholder tensor 'gradients/split_1_grad/concat/split_1/split_dim' with dtype int32\n",
      "\t [[{{node gradients/split_1_grad/concat/split_1/split_dim}}]]\n"
     ]
    },
    {
     "name": "stdout",
     "output_type": "stream",
     "text": [
      "1000/1000 [==============================] - 16s 15ms/step - loss: 1.4054 - accuracy: 0.7207\n"
     ]
    },
    {
     "data": {
      "text/plain": [
       "[1.4053900241851807, 0.7206562757492065]"
      ]
     },
     "execution_count": 44,
     "metadata": {},
     "output_type": "execute_result"
    }
   ],
   "source": [
    "gru_model.evaluate(x_test, y_test)"
   ]
  },
  {
   "cell_type": "markdown",
   "id": "0f68dbdb",
   "metadata": {},
   "source": [
    "GRU Model gives 72.06%, almost same as LSTM Model"
   ]
  },
  {
   "cell_type": "code",
   "execution_count": null,
   "id": "c6e6a8f7",
   "metadata": {},
   "outputs": [],
   "source": []
  }
 ],
 "metadata": {
  "colab": {
   "provenance": []
  },
  "kernelspec": {
   "display_name": "Python 3 (ipykernel)",
   "language": "python",
   "name": "python3"
  },
  "language_info": {
   "codemirror_mode": {
    "name": "ipython",
    "version": 3
   },
   "file_extension": ".py",
   "mimetype": "text/x-python",
   "name": "python",
   "nbconvert_exporter": "python",
   "pygments_lexer": "ipython3",
   "version": "3.9.13"
  }
 },
 "nbformat": 4,
 "nbformat_minor": 5
}
